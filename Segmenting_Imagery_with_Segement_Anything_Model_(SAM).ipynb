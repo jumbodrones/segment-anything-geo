{
  "nbformat": 4,
  "nbformat_minor": 0,
  "metadata": {
    "colab": {
      "provenance": [],
      "gpuType": "T4",
      "include_colab_link": true
    },
    "kernelspec": {
      "name": "python3",
      "display_name": "Python 3"
    },
    "language_info": {
      "name": "python"
    },
    "accelerator": "GPU",
    "widgets": {
      "application/vnd.jupyter.widget-state+json": {
        "77b229241b07413f9aadc7813aa3273a": {
          "model_module": "@jupyter-widgets/controls",
          "model_name": "CheckboxModel",
          "model_module_version": "1.5.0",
          "state": {
            "_dom_classes": [],
            "_model_module": "@jupyter-widgets/controls",
            "_model_module_version": "1.5.0",
            "_model_name": "CheckboxModel",
            "_view_count": null,
            "_view_module": "@jupyter-widgets/controls",
            "_view_module_version": "1.5.0",
            "_view_name": "CheckboxView",
            "description": "OpenStreetMap",
            "description_tooltip": null,
            "disabled": false,
            "indent": false,
            "layout": "IPY_MODEL_857da3fddc25403caadfb54e145d36bc",
            "style": "IPY_MODEL_ef8003b1f7c74ab88aa03576decde3dc",
            "value": true
          }
        },
        "17a2a5f71e8645c0ac5c13c00cce5738": {
          "model_module": "jupyter-leaflet",
          "model_name": "LeafletTileLayerModel",
          "model_module_version": "^0.19",
          "state": {
            "_model_module": "jupyter-leaflet",
            "_model_module_version": "^0.19",
            "_model_name": "LeafletTileLayerModel",
            "_view_count": null,
            "_view_module": "jupyter-leaflet",
            "_view_module_version": "^0.19",
            "_view_name": "LeafletTileLayerView",
            "attribution": "&copy; <a href=\"https://www.openstreetmap.org/copyright\">OpenStreetMap</a> contributors",
            "base": true,
            "bottom": true,
            "bounds": null,
            "detect_retina": false,
            "loading": false,
            "max_native_zoom": null,
            "max_zoom": 19,
            "min_native_zoom": null,
            "min_zoom": 1,
            "name": "OpenStreetMap",
            "no_wrap": false,
            "opacity": 1,
            "options": [
              "attribution",
              "bounds",
              "detect_retina",
              "max_native_zoom",
              "max_zoom",
              "min_native_zoom",
              "min_zoom",
              "no_wrap",
              "tile_size",
              "tms",
              "zoom_offset"
            ],
            "pane": "",
            "popup": null,
            "popup_max_height": null,
            "popup_max_width": 300,
            "popup_min_width": 50,
            "show_loading": false,
            "subitems": [],
            "tile_size": 256,
            "tms": false,
            "url": "https://tile.openstreetmap.org/{z}/{x}/{y}.png",
            "visible": true,
            "zoom_offset": 0
          }
        },
        "857da3fddc25403caadfb54e145d36bc": {
          "model_module": "@jupyter-widgets/base",
          "model_name": "LayoutModel",
          "model_module_version": "1.2.0",
          "state": {
            "_model_module": "@jupyter-widgets/base",
            "_model_module_version": "1.2.0",
            "_model_name": "LayoutModel",
            "_view_count": null,
            "_view_module": "@jupyter-widgets/base",
            "_view_module_version": "1.2.0",
            "_view_name": "LayoutView",
            "align_content": null,
            "align_items": null,
            "align_self": null,
            "border": null,
            "bottom": null,
            "display": null,
            "flex": null,
            "flex_flow": null,
            "grid_area": null,
            "grid_auto_columns": null,
            "grid_auto_flow": null,
            "grid_auto_rows": null,
            "grid_column": null,
            "grid_gap": null,
            "grid_row": null,
            "grid_template_areas": null,
            "grid_template_columns": null,
            "grid_template_rows": null,
            "height": "18px",
            "justify_content": null,
            "justify_items": null,
            "left": null,
            "margin": null,
            "max_height": null,
            "max_width": null,
            "min_height": null,
            "min_width": null,
            "object_fit": null,
            "object_position": null,
            "order": null,
            "overflow": null,
            "overflow_x": null,
            "overflow_y": null,
            "padding": null,
            "right": null,
            "top": null,
            "visibility": null,
            "width": "25ex"
          }
        },
        "ef8003b1f7c74ab88aa03576decde3dc": {
          "model_module": "@jupyter-widgets/controls",
          "model_name": "DescriptionStyleModel",
          "model_module_version": "1.5.0",
          "state": {
            "_model_module": "@jupyter-widgets/controls",
            "_model_module_version": "1.5.0",
            "_model_name": "DescriptionStyleModel",
            "_view_count": null,
            "_view_module": "@jupyter-widgets/base",
            "_view_module_version": "1.2.0",
            "_view_name": "StyleView",
            "description_width": ""
          }
        },
        "9af6396c8a8c4d6fb8ff6a18a3c65b21": {
          "model_module": "@jupyter-widgets/controls",
          "model_name": "CheckboxModel",
          "model_module_version": "1.5.0",
          "state": {
            "_dom_classes": [],
            "_model_module": "@jupyter-widgets/controls",
            "_model_module_version": "1.5.0",
            "_model_name": "CheckboxModel",
            "_view_count": null,
            "_view_module": "@jupyter-widgets/controls",
            "_view_module_version": "1.5.0",
            "_view_name": "CheckboxView",
            "description": "Google Maps",
            "description_tooltip": null,
            "disabled": false,
            "indent": false,
            "layout": "IPY_MODEL_35c96ab2eaf441d7bd88d253f55bbccb",
            "style": "IPY_MODEL_9ed404b283e046a8b2c5dc51e2a7a72d",
            "value": false
          }
        },
        "6f13539644c54e3f969efceef6f72818": {
          "model_module": "jupyter-leaflet",
          "model_name": "LeafletTileLayerModel",
          "model_module_version": "^0.19",
          "state": {
            "_model_module": "jupyter-leaflet",
            "_model_module_version": "^0.19",
            "_model_name": "LeafletTileLayerModel",
            "_view_count": null,
            "_view_module": "jupyter-leaflet",
            "_view_module_version": "^0.19",
            "_view_name": "LeafletTileLayerView",
            "attribution": "Google",
            "base": false,
            "bottom": true,
            "bounds": null,
            "detect_retina": false,
            "loading": false,
            "max_native_zoom": null,
            "max_zoom": 24,
            "min_native_zoom": null,
            "min_zoom": 0,
            "name": "Google Maps",
            "no_wrap": false,
            "opacity": 1,
            "options": [
              "attribution",
              "bounds",
              "detect_retina",
              "max_native_zoom",
              "max_zoom",
              "min_native_zoom",
              "min_zoom",
              "no_wrap",
              "tile_size",
              "tms",
              "zoom_offset"
            ],
            "pane": "",
            "popup": null,
            "popup_max_height": null,
            "popup_max_width": 300,
            "popup_min_width": 50,
            "show_loading": false,
            "subitems": [],
            "tile_size": 256,
            "tms": false,
            "url": "https://mt1.google.com/vt/lyrs=m&x={x}&y={y}&z={z}&key=YOUR-API-KEY",
            "visible": false,
            "zoom_offset": 0
          }
        },
        "3e0fd38d7412417b9957344ea95c08b5": {
          "model_module": "@jupyter-widgets/controls",
          "model_name": "CheckboxModel",
          "model_module_version": "1.5.0",
          "state": {
            "_dom_classes": [],
            "_model_module": "@jupyter-widgets/controls",
            "_model_module_version": "1.5.0",
            "_model_name": "CheckboxModel",
            "_view_count": null,
            "_view_module": "@jupyter-widgets/controls",
            "_view_module_version": "1.5.0",
            "_view_name": "CheckboxView",
            "description": "Image",
            "description_tooltip": null,
            "disabled": false,
            "indent": false,
            "layout": "IPY_MODEL_6556970747de4d08a0db50ced2010fca",
            "style": "IPY_MODEL_d91a2b95da7d4fbca23fb411b214993d",
            "value": true
          }
        },
        "4bd24def62c64c7eb173cbf9b1e5c9b4": {
          "model_module": "jupyter-leaflet",
          "model_name": "LeafletTileLayerModel",
          "model_module_version": "^0.19",
          "state": {
            "_model_module": "jupyter-leaflet",
            "_model_module_version": "^0.19",
            "_model_name": "LeafletTileLayerModel",
            "_view_count": null,
            "_view_module": "jupyter-leaflet",
            "_view_module_version": "^0.19",
            "_view_name": "LeafletTileLayerView",
            "attribution": "Raster file served by <a href='https://github.com/banesullivan/localtileserver' target='_blank'>localtileserver</a>.",
            "base": false,
            "bottom": true,
            "bounds": [
              [
                42.317022,
                -72.643849
              ],
              [
                42.319776,
                -72.639888
              ]
            ],
            "detect_retina": false,
            "loading": false,
            "max_native_zoom": 30,
            "max_zoom": 30,
            "min_native_zoom": null,
            "min_zoom": 0,
            "name": "Image",
            "no_wrap": false,
            "opacity": 1,
            "options": [
              "attribution",
              "bounds",
              "detect_retina",
              "max_native_zoom",
              "max_zoom",
              "min_native_zoom",
              "min_zoom",
              "no_wrap",
              "tile_size",
              "tms",
              "zoom_offset"
            ],
            "pane": "",
            "popup": null,
            "popup_max_height": null,
            "popup_max_width": 300,
            "popup_min_width": 50,
            "show_loading": true,
            "subitems": [],
            "tile_size": 256,
            "tms": false,
            "url": "http://localhost:37865/api/tiles/{z}/{x}/{y}.png?&filename=%2Fcontent%2Fmorning.tif",
            "visible": true,
            "zoom_offset": 0
          }
        },
        "35c96ab2eaf441d7bd88d253f55bbccb": {
          "model_module": "@jupyter-widgets/base",
          "model_name": "LayoutModel",
          "model_module_version": "1.2.0",
          "state": {
            "_model_module": "@jupyter-widgets/base",
            "_model_module_version": "1.2.0",
            "_model_name": "LayoutModel",
            "_view_count": null,
            "_view_module": "@jupyter-widgets/base",
            "_view_module_version": "1.2.0",
            "_view_name": "LayoutView",
            "align_content": null,
            "align_items": null,
            "align_self": null,
            "border": null,
            "bottom": null,
            "display": null,
            "flex": null,
            "flex_flow": null,
            "grid_area": null,
            "grid_auto_columns": null,
            "grid_auto_flow": null,
            "grid_auto_rows": null,
            "grid_column": null,
            "grid_gap": null,
            "grid_row": null,
            "grid_template_areas": null,
            "grid_template_columns": null,
            "grid_template_rows": null,
            "height": "18px",
            "justify_content": null,
            "justify_items": null,
            "left": null,
            "margin": null,
            "max_height": null,
            "max_width": null,
            "min_height": null,
            "min_width": null,
            "object_fit": null,
            "object_position": null,
            "order": null,
            "overflow": null,
            "overflow_x": null,
            "overflow_y": null,
            "padding": null,
            "right": null,
            "top": null,
            "visibility": null,
            "width": "25ex"
          }
        },
        "9ed404b283e046a8b2c5dc51e2a7a72d": {
          "model_module": "@jupyter-widgets/controls",
          "model_name": "DescriptionStyleModel",
          "model_module_version": "1.5.0",
          "state": {
            "_model_module": "@jupyter-widgets/controls",
            "_model_module_version": "1.5.0",
            "_model_name": "DescriptionStyleModel",
            "_view_count": null,
            "_view_module": "@jupyter-widgets/base",
            "_view_module_version": "1.2.0",
            "_view_name": "StyleView",
            "description_width": ""
          }
        },
        "6556970747de4d08a0db50ced2010fca": {
          "model_module": "@jupyter-widgets/base",
          "model_name": "LayoutModel",
          "model_module_version": "1.2.0",
          "state": {
            "_model_module": "@jupyter-widgets/base",
            "_model_module_version": "1.2.0",
            "_model_name": "LayoutModel",
            "_view_count": null,
            "_view_module": "@jupyter-widgets/base",
            "_view_module_version": "1.2.0",
            "_view_name": "LayoutView",
            "align_content": null,
            "align_items": null,
            "align_self": null,
            "border": null,
            "bottom": null,
            "display": null,
            "flex": null,
            "flex_flow": null,
            "grid_area": null,
            "grid_auto_columns": null,
            "grid_auto_flow": null,
            "grid_auto_rows": null,
            "grid_column": null,
            "grid_gap": null,
            "grid_row": null,
            "grid_template_areas": null,
            "grid_template_columns": null,
            "grid_template_rows": null,
            "height": "18px",
            "justify_content": null,
            "justify_items": null,
            "left": null,
            "margin": null,
            "max_height": null,
            "max_width": null,
            "min_height": null,
            "min_width": null,
            "object_fit": null,
            "object_position": null,
            "order": null,
            "overflow": null,
            "overflow_x": null,
            "overflow_y": null,
            "padding": null,
            "right": null,
            "top": null,
            "visibility": null,
            "width": "25ex"
          }
        },
        "d91a2b95da7d4fbca23fb411b214993d": {
          "model_module": "@jupyter-widgets/controls",
          "model_name": "DescriptionStyleModel",
          "model_module_version": "1.5.0",
          "state": {
            "_model_module": "@jupyter-widgets/controls",
            "_model_module_version": "1.5.0",
            "_model_name": "DescriptionStyleModel",
            "_view_count": null,
            "_view_module": "@jupyter-widgets/base",
            "_view_module_version": "1.2.0",
            "_view_name": "StyleView",
            "description_width": ""
          }
        },
        "7493cb3553c34475a62a75116c0b9234": {
          "model_module": "jupyter-leaflet",
          "model_name": "LeafletMapModel",
          "model_module_version": "^0.19",
          "state": {
            "_dom_classes": [],
            "_model_module": "jupyter-leaflet",
            "_model_module_version": "^0.19",
            "_model_name": "LeafletMapModel",
            "_view_count": null,
            "_view_module": "jupyter-leaflet",
            "_view_module_version": "^0.19",
            "_view_name": "LeafletMapView",
            "bottom": 6208377,
            "bounce_at_zoom_limits": true,
            "box_zoom": true,
            "center": [
              42.31830437691072,
              -72.64527082443239
            ],
            "close_popup_on_click": true,
            "controls": [
              "IPY_MODEL_5b355741fa2941b1ab24ba84c19049c5",
              "IPY_MODEL_e622900d694f4c6a9635f2fe372493ba",
              "IPY_MODEL_c1aea116063a40b9b0ed5168b62e0260",
              "IPY_MODEL_510344c5d2f24a7da62d4b4662dbc365",
              "IPY_MODEL_5ddf634a2f52451691a1f5a7b55ea665",
              "IPY_MODEL_601c02dca712469eb81dba5fb7b3a027"
            ],
            "crs": {
              "name": "EPSG3857",
              "custom": false
            },
            "default_style": "IPY_MODEL_58f25dcf7caf4e24a624b437f7742861",
            "double_click_zoom": true,
            "dragging": true,
            "dragging_style": "IPY_MODEL_2d653758d51d4c43956f1267f5f1459a",
            "east": -72.63715982437135,
            "fullscreen": false,
            "inertia": true,
            "inertia_deceleration": 3000,
            "inertia_max_speed": 1500,
            "interpolation": "bilinear",
            "keyboard": true,
            "keyboard_pan_offset": 80,
            "keyboard_zoom_offset": 1,
            "layers": [
              "IPY_MODEL_17a2a5f71e8645c0ac5c13c00cce5738",
              "IPY_MODEL_6f13539644c54e3f969efceef6f72818",
              "IPY_MODEL_4bd24def62c64c7eb173cbf9b1e5c9b4"
            ],
            "layout": "IPY_MODEL_33558f298816451b97d28db3406be082",
            "left": 5002715,
            "max_zoom": 24,
            "min_zoom": null,
            "modisdate": "2025-03-02",
            "north": 42.32465051572796,
            "options": [
              "bounce_at_zoom_limits",
              "box_zoom",
              "center",
              "close_popup_on_click",
              "double_click_zoom",
              "dragging",
              "fullscreen",
              "inertia",
              "inertia_deceleration",
              "inertia_max_speed",
              "interpolation",
              "keyboard",
              "keyboard_pan_offset",
              "keyboard_zoom_offset",
              "max_zoom",
              "min_zoom",
              "prefer_canvas",
              "scroll_wheel_zoom",
              "tap",
              "tap_tolerance",
              "touch_zoom",
              "world_copy_jump",
              "zoom",
              "zoom_animation_threshold",
              "zoom_delta",
              "zoom_snap"
            ],
            "panes": {},
            "prefer_canvas": false,
            "right": 5003471,
            "scroll_wheel_zoom": true,
            "south": 42.311957598024165,
            "style": "IPY_MODEL_58f25dcf7caf4e24a624b437f7742861",
            "tap": true,
            "tap_tolerance": 15,
            "top": 6207577,
            "touch_zoom": true,
            "west": -72.65338182449342,
            "window_url": "https://rzcctvegg0r-496ff2e9c6d22116-0-colab.googleusercontent.com/outputframe.html?vrz=colab_20250227-060209_RC00_731674681",
            "world_copy_jump": false,
            "zoom": 16,
            "zoom_animation_threshold": 4,
            "zoom_delta": 1,
            "zoom_snap": 1
          }
        },
        "5b355741fa2941b1ab24ba84c19049c5": {
          "model_module": "jupyter-leaflet",
          "model_name": "LeafletZoomControlModel",
          "model_module_version": "^0.19",
          "state": {
            "_model_module": "jupyter-leaflet",
            "_model_module_version": "^0.19",
            "_model_name": "LeafletZoomControlModel",
            "_view_count": null,
            "_view_module": "jupyter-leaflet",
            "_view_module_version": "^0.19",
            "_view_name": "LeafletZoomControlView",
            "options": [
              "position",
              "zoom_in_text",
              "zoom_in_title",
              "zoom_out_text",
              "zoom_out_title"
            ],
            "position": "topleft",
            "zoom_in_text": "+",
            "zoom_in_title": "Zoom in",
            "zoom_out_text": "-",
            "zoom_out_title": "Zoom out"
          }
        },
        "e622900d694f4c6a9635f2fe372493ba": {
          "model_module": "jupyter-leaflet",
          "model_name": "LeafletAttributionControlModel",
          "model_module_version": "^0.19",
          "state": {
            "_model_module": "jupyter-leaflet",
            "_model_module_version": "^0.19",
            "_model_name": "LeafletAttributionControlModel",
            "_view_count": null,
            "_view_module": "jupyter-leaflet",
            "_view_module_version": "^0.19",
            "_view_name": "LeafletAttributionControlView",
            "options": [
              "position",
              "prefix"
            ],
            "position": "bottomright",
            "prefix": "ipyleaflet"
          }
        },
        "c1aea116063a40b9b0ed5168b62e0260": {
          "model_module": "jupyter-leaflet",
          "model_name": "LeafletFullScreenControlModel",
          "model_module_version": "^0.19",
          "state": {
            "_model_module": "jupyter-leaflet",
            "_model_module_version": "^0.19",
            "_model_name": "LeafletFullScreenControlModel",
            "_view_count": null,
            "_view_module": "jupyter-leaflet",
            "_view_module_version": "^0.19",
            "_view_name": "LeafletFullScreenControlView",
            "options": [
              "position"
            ],
            "position": "topleft"
          }
        },
        "510344c5d2f24a7da62d4b4662dbc365": {
          "model_module": "jupyter-leaflet",
          "model_name": "LeafletDrawControlModel",
          "model_module_version": "^0.19",
          "state": {
            "_model_module": "jupyter-leaflet",
            "_model_module_version": "^0.19",
            "_model_name": "LeafletDrawControlModel",
            "_view_count": null,
            "_view_module": "jupyter-leaflet",
            "_view_module_version": "^0.19",
            "_view_name": "LeafletDrawControlView",
            "circle": {
              "shapeOptions": {
                "color": "#3388ff"
              },
              "repeatMode": false
            },
            "circlemarker": {},
            "data": [],
            "edit": true,
            "marker": {
              "shapeOptions": {
                "color": "#3388ff"
              },
              "repeatMode": false
            },
            "options": [
              "position"
            ],
            "polygon": {
              "repeatMode": false
            },
            "polyline": {
              "repeatMode": false
            },
            "position": "topleft",
            "rectangle": {
              "shapeOptions": {
                "color": "#3388ff"
              },
              "repeatMode": false
            },
            "remove": true
          }
        },
        "5ddf634a2f52451691a1f5a7b55ea665": {
          "model_module": "jupyter-leaflet",
          "model_name": "LeafletScaleControlModel",
          "model_module_version": "^0.19",
          "state": {
            "_model_module": "jupyter-leaflet",
            "_model_module_version": "^0.19",
            "_model_name": "LeafletScaleControlModel",
            "_view_count": null,
            "_view_module": "jupyter-leaflet",
            "_view_module_version": "^0.19",
            "_view_name": "LeafletScaleControlView",
            "imperial": true,
            "max_width": 100,
            "metric": true,
            "options": [
              "imperial",
              "max_width",
              "metric",
              "position",
              "update_when_idle"
            ],
            "position": "bottomleft",
            "update_when_idle": false
          }
        },
        "601c02dca712469eb81dba5fb7b3a027": {
          "model_module": "jupyter-leaflet",
          "model_name": "LeafletWidgetControlModel",
          "model_module_version": "^0.19",
          "state": {
            "_model_module": "jupyter-leaflet",
            "_model_module_version": "^0.19",
            "_model_name": "LeafletWidgetControlModel",
            "_view_count": null,
            "_view_module": "jupyter-leaflet",
            "_view_module_version": "^0.19",
            "_view_name": "LeafletWidgetControlView",
            "max_height": null,
            "max_width": null,
            "min_height": null,
            "min_width": null,
            "options": [
              "position",
              "transparent_bg"
            ],
            "position": "topright",
            "transparent_bg": false,
            "widget": "IPY_MODEL_a3a08c662de64d5e9bdb080ad89f4b85"
          }
        },
        "58f25dcf7caf4e24a624b437f7742861": {
          "model_module": "jupyter-leaflet",
          "model_name": "LeafletMapStyleModel",
          "model_module_version": "^0.19",
          "state": {
            "_model_module": "jupyter-leaflet",
            "_model_module_version": "^0.19",
            "_model_name": "LeafletMapStyleModel",
            "_view_count": null,
            "_view_module": "@jupyter-widgets/base",
            "_view_module_version": "1.2.0",
            "_view_name": "StyleView",
            "cursor": "grab"
          }
        },
        "2d653758d51d4c43956f1267f5f1459a": {
          "model_module": "jupyter-leaflet",
          "model_name": "LeafletMapStyleModel",
          "model_module_version": "^0.19",
          "state": {
            "_model_module": "jupyter-leaflet",
            "_model_module_version": "^0.19",
            "_model_name": "LeafletMapStyleModel",
            "_view_count": null,
            "_view_module": "@jupyter-widgets/base",
            "_view_module_version": "1.2.0",
            "_view_name": "StyleView",
            "cursor": "move"
          }
        },
        "33558f298816451b97d28db3406be082": {
          "model_module": "@jupyter-widgets/base",
          "model_name": "LayoutModel",
          "model_module_version": "1.2.0",
          "state": {
            "_model_module": "@jupyter-widgets/base",
            "_model_module_version": "1.2.0",
            "_model_name": "LayoutModel",
            "_view_count": null,
            "_view_module": "@jupyter-widgets/base",
            "_view_module_version": "1.2.0",
            "_view_name": "LayoutView",
            "align_content": null,
            "align_items": null,
            "align_self": null,
            "border": null,
            "bottom": null,
            "display": null,
            "flex": null,
            "flex_flow": null,
            "grid_area": null,
            "grid_auto_columns": null,
            "grid_auto_flow": null,
            "grid_auto_rows": null,
            "grid_column": null,
            "grid_gap": null,
            "grid_row": null,
            "grid_template_areas": null,
            "grid_template_columns": null,
            "grid_template_rows": null,
            "height": "800px",
            "justify_content": null,
            "justify_items": null,
            "left": null,
            "margin": null,
            "max_height": null,
            "max_width": null,
            "min_height": null,
            "min_width": null,
            "object_fit": null,
            "object_position": null,
            "order": null,
            "overflow": null,
            "overflow_x": null,
            "overflow_y": null,
            "padding": null,
            "right": null,
            "top": null,
            "visibility": null,
            "width": null
          }
        },
        "a3a08c662de64d5e9bdb080ad89f4b85": {
          "model_module": "@jupyter-widgets/controls",
          "model_name": "VBoxModel",
          "model_module_version": "1.5.0",
          "state": {
            "_dom_classes": [],
            "_model_module": "@jupyter-widgets/controls",
            "_model_module_version": "1.5.0",
            "_model_name": "VBoxModel",
            "_view_count": null,
            "_view_module": "@jupyter-widgets/controls",
            "_view_module_version": "1.5.0",
            "_view_name": "VBoxView",
            "box_style": "",
            "children": [
              "IPY_MODEL_9c1d828ba77748ee8bd4572aded1e597"
            ],
            "layout": "IPY_MODEL_8013e71fa73d46debf2bd50e60e623a3"
          }
        },
        "9c1d828ba77748ee8bd4572aded1e597": {
          "model_module": "@jupyter-widgets/controls",
          "model_name": "ToggleButtonModel",
          "model_module_version": "1.5.0",
          "state": {
            "_dom_classes": [],
            "_model_module": "@jupyter-widgets/controls",
            "_model_module_version": "1.5.0",
            "_model_name": "ToggleButtonModel",
            "_view_count": null,
            "_view_module": "@jupyter-widgets/controls",
            "_view_module_version": "1.5.0",
            "_view_name": "ToggleButtonView",
            "button_style": "",
            "description": "",
            "description_tooltip": null,
            "disabled": false,
            "icon": "wrench",
            "layout": "IPY_MODEL_69e6527bf3ca473fb12e21279cb9df96",
            "style": "IPY_MODEL_5ea78f2342ac49a3aa1123ed44f121bf",
            "tooltip": "Toolbar",
            "value": false
          }
        },
        "8013e71fa73d46debf2bd50e60e623a3": {
          "model_module": "@jupyter-widgets/base",
          "model_name": "LayoutModel",
          "model_module_version": "1.2.0",
          "state": {
            "_model_module": "@jupyter-widgets/base",
            "_model_module_version": "1.2.0",
            "_model_name": "LayoutModel",
            "_view_count": null,
            "_view_module": "@jupyter-widgets/base",
            "_view_module_version": "1.2.0",
            "_view_name": "LayoutView",
            "align_content": null,
            "align_items": null,
            "align_self": null,
            "border": null,
            "bottom": null,
            "display": null,
            "flex": null,
            "flex_flow": null,
            "grid_area": null,
            "grid_auto_columns": null,
            "grid_auto_flow": null,
            "grid_auto_rows": null,
            "grid_column": null,
            "grid_gap": null,
            "grid_row": null,
            "grid_template_areas": null,
            "grid_template_columns": null,
            "grid_template_rows": null,
            "height": null,
            "justify_content": null,
            "justify_items": null,
            "left": null,
            "margin": null,
            "max_height": null,
            "max_width": null,
            "min_height": null,
            "min_width": null,
            "object_fit": null,
            "object_position": null,
            "order": null,
            "overflow": null,
            "overflow_x": null,
            "overflow_y": null,
            "padding": null,
            "right": null,
            "top": null,
            "visibility": null,
            "width": null
          }
        },
        "69e6527bf3ca473fb12e21279cb9df96": {
          "model_module": "@jupyter-widgets/base",
          "model_name": "LayoutModel",
          "model_module_version": "1.2.0",
          "state": {
            "_model_module": "@jupyter-widgets/base",
            "_model_module_version": "1.2.0",
            "_model_name": "LayoutModel",
            "_view_count": null,
            "_view_module": "@jupyter-widgets/base",
            "_view_module_version": "1.2.0",
            "_view_name": "LayoutView",
            "align_content": null,
            "align_items": null,
            "align_self": null,
            "border": null,
            "bottom": null,
            "display": null,
            "flex": null,
            "flex_flow": null,
            "grid_area": null,
            "grid_auto_columns": null,
            "grid_auto_flow": null,
            "grid_auto_rows": null,
            "grid_column": null,
            "grid_gap": null,
            "grid_row": null,
            "grid_template_areas": null,
            "grid_template_columns": null,
            "grid_template_rows": null,
            "height": "28px",
            "justify_content": null,
            "justify_items": null,
            "left": null,
            "margin": null,
            "max_height": null,
            "max_width": null,
            "min_height": null,
            "min_width": null,
            "object_fit": null,
            "object_position": null,
            "order": null,
            "overflow": null,
            "overflow_x": null,
            "overflow_y": null,
            "padding": "0px 0px 0px 4px",
            "right": null,
            "top": null,
            "visibility": null,
            "width": "28px"
          }
        },
        "5ea78f2342ac49a3aa1123ed44f121bf": {
          "model_module": "@jupyter-widgets/controls",
          "model_name": "DescriptionStyleModel",
          "model_module_version": "1.5.0",
          "state": {
            "_model_module": "@jupyter-widgets/controls",
            "_model_module_version": "1.5.0",
            "_model_name": "DescriptionStyleModel",
            "_view_count": null,
            "_view_module": "@jupyter-widgets/base",
            "_view_module_version": "1.2.0",
            "_view_name": "StyleView",
            "description_width": ""
          }
        }
      }
    }
  },
  "cells": [
    {
      "cell_type": "markdown",
      "metadata": {
        "id": "view-in-github",
        "colab_type": "text"
      },
      "source": [
        "<a href=\"https://colab.research.google.com/github/tuftsdatalab/segment-anything-geo/blob/main/Segmenting_Imagery_with_Segement_Anything_Model_(SAM).ipynb\" target=\"_parent\"><img src=\"https://colab.research.google.com/assets/colab-badge.svg\" alt=\"Open In Colab\"/></a>"
      ]
    },
    {
      "cell_type": "markdown",
      "source": [
        "![Test Banner.jpg](data:image/jpeg;base64,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)"
      ],
      "metadata": {
        "id": "TzKm6jitmUqk"
      }
    },
    {
      "cell_type": "markdown",
      "source": [
        "# **Segmentation and Object Identification with Text Prompts - Identifying Geese in Drone Imagery of Paradise Pond**\n",
        "\n",
        "Written by Chad Fisher 2/25/25"
      ],
      "metadata": {
        "id": "2cxGCtjUEfkE"
      }
    },
    {
      "cell_type": "markdown",
      "source": [
        "This is a Tufts University Data Lab geospatial notebook based tutorial. Use it directly in Google Colab using your Google Account as you are now. You have to make a copy of it to save your work. To make a copy, click on:  ```File -> Save a Copy in Drive ```"
      ],
      "metadata": {
        "id": "3g3KjBx6aSBF"
      }
    },
    {
      "cell_type": "markdown",
      "source": [
        "## Introduction"
      ],
      "metadata": {
        "id": "g5ZzmUGiahu-"
      }
    },
    {
      "cell_type": "markdown",
      "source": [
        "In this tutorial, we will use drone imagery collected in the morning and afternoon of geese on Paradise Pond at Smith College to explore the capabilities of an image segmentation foundation model from Meta AI called [*Segment Anything Model (SAM)*](https://ai.meta.com/blog/segment-anything-foundation-model-image-segmentation/).\n",
        "\n",
        "**Segmentation** is a core task in computer vision and is the identification of distinct objects and the classification of image pixels to these unique objects. Creating an accurate model for specific tasks typically requires extensive technical expertise, complex infrastructure, and large datasets. SAM aims to create a *foundation model*, which means a model that is generally applicable to many different tasks and comes pre-trained.\n",
        "\n",
        "Using the [**segment-geospatial**](https://www.google.com/url?q=https%3A%2F%2Fsamgeo.gishub.org%2F) python package, we will learn to:\n",
        "1. Initialize the model to use various text prompts to identify objects in a drone image\n",
        "2. Compare the effects of illumination and lighting in a drone image on segmentation accuracy\n",
        "3. Fine-tune model paramaters including the text threshold and box threshold.\n"
      ],
      "metadata": {
        "id": "-BrbghWTErWG"
      }
    },
    {
      "cell_type": "markdown",
      "metadata": {
        "id": "vW5pJWN7VV5e"
      },
      "source": [
        "## 1. Change the runtime and install dependencies\n",
        "\n",
        "Image segmentation tasks can be computationally intensive and are often sped up by the use of a *GPU (graphical processing unit)* which is uniquely suited for these tasks.\n",
        "\n"
      ]
    },
    {
      "cell_type": "markdown",
      "source": [
        "0. Make a copy of this notebook in your Google Drive. Click on:  ```File -> Save a Copy in Drive ```"
      ],
      "metadata": {
        "id": "35AE_ojOrcAO"
      }
    },
    {
      "cell_type": "markdown",
      "source": [
        "1. Change the runtime to the **T4 GPU** in the top right corner of Google Colab."
      ],
      "metadata": {
        "id": "LANjpoJ8GYlw"
      }
    },
    {
      "cell_type": "markdown",
      "source": [
        "![Screenshot 2025-02-21 102304.png](data:image/png;base64,iVBORw0KGgoAAAANSUhEUgAAAQcAAAD9CAYAAACx1bJsAAAAAXNSR0IArs4c6QAAAARnQU1BAACxjwv8YQUAAAAJcEhZcwAADsMAAA7DAcdvqGQAAEtISURBVHhe7d13eFR1vsfx95TMZGZSJj2BNFoKCQmRQAKhhBZKEEKTsiAIiFi36e66e6/Xu9fnenVd2yqWdUXXFWy42AVkBWHp0iEhCSEhlfQ6k+n3DzNnk2GAwIIO8ns9zzwPOZ1Jzmd+58z5fX+yzMxMB8L3bkqAg5lBDoJTR+DTWANWszTP5nDQptbjHxyErL4KeWwc9sJjoNaAyQDIemzLlQM432oi1FeN3GVRB1DZ3Mn/FrZTZrK7zJNhUIfRru6LVaHpMe9GIHdY0Jrr8DWWI3dYXGcLV0gmwuH756uAR2Ic6BRgkWkYGO4Pjn/9GlpMNvxGTULprQG7DRwObMXHUQ5Mxrp3y2XDAaDdbEMG6FSKHtMNZjvFte3U2GU8V2bsMc/JgQyLQkenKhCLQoddpgLZ5ff5vXM4kDmsKO1GvC3NqK0tyBw216WEqyTC4QcwzBdWhjuwO8Dh5Uv/EJ0UDja7nVbfcELShuOwd/tkl8nA4cBRW4n9fDmOTsN3J4Ld/t3LGS4OOyDDLpPRYrQSoPX61zaAmlYTlU2dBOhUvF9j4pumf7VYBKE7EQ4/gPF6mB/iwGyT4e+nJ9RXJc1rM9mQxQ9DGxiIXKFAJpchk8m/ayzIZMhkMpDJvwsB+3fh4LA7kDlsOGxWsFpwmM04jO20V1ej6mxBpZBL2zdY7BRWtxHgo6LebOdPZUbqzD0vLwQBEQ4/jF9EOhioAaNVTlhwAAHeSui6H/B1ZQfvNcrJiY9BqZDjcF5EdDXrZc7mvbOV3+235+hqPchksu/Ws1lJaT9HtN77XxciMqhrN9PUYUGlkFNlsvNMqQGDTfwZCD2JcPgB3BnhIM0HOq1yIkIC8VN/d1/AZHPwTH4zO5uu3c20gVoFv473pY/Pv1onDpmMikYjZqsdhVzGkVYrf65wf/9BuHn9q70pfG8Otf/r099k/VeTvrXTyqFW678WvAaKDTY2nDNQY/hX4MgcDvrovTFY7FQbreR3XNt9Cj8OIhx+AGeNUGuBTrud3Y3f3RC0ORzsazDRcR2a9/9oMPNEQSv5zSbsXZtXyGGnwcH/lRrZdQ1bKsKPh2zkyJHX/q9RuCwfBShl0G6XcWc/Hf5y2FBhpMx4/b6K85bLmB6mZlSQCl8vBY+dbqPcIFoNgnuyWbNmiXAQBOEC4oakIAhuiXAQbloqlYrAwMB/fT18GXa7naamJszmm+PBMREOwk0rLCyMuro67N2fRL0EhUJBcHAw58+fd511XSgUCmy263cP6nLEtxXCj0JScjJ333sPd929Bj8/P9RqNT9/8BeEhoaSkJjAnLlziIqK4o6VK6R1ZDJZr4MBwGaz9bqVcS3o9XoUip59Y75PIhyEHwWlUsme3XuoqqoiNDSUgYMGUpCfz5DUFLRaLX7+/gxJGdKbPmtCFxEOwo/G8BHDiYqKorS0lJTUVAryT9O/fz80Gg2nC05jsVpxOB/0EC5LhINwXaijNajC1K6Tr6s9u3dz9uxZEgcnog/QEx0dhd1uJzwigtKzZ9m6eQtyufiT7y1xQ1K45rz7aQhfFUXb/hYaPrr8zTulUolS+V3nM5vdjsVsRqFQIFcosPTymwF9gB6H3YHFaqFv30ja29uorqomIDCQ8PAwzp4tpdNoZMDAAZwpPgNAeHg4zZrWrh6v322nxy0Fl05uMpkMvxYfampqui10/QQFBdHc3HzVNyXlcjlh4WFUV1W7zuoVEQ7CNeU9QEv4HZF0HG2lfuP5XjXjB8UNIiMzEx9fHw4eOMi3Bw4ye+4cfH19eXPdG66LXzN6vR5dP18c8q5jdB6qw/FdIjgc0jSHA+R2GR0V7TQ3N0vbuBSZTEZwcDAyl9aKzWajob6+xzR3/p1wUCgUzLttPqlDU3nrzb+SfyrfdZHLEuEgXBVtgg+WJjOW8//6ZPeO1RB+ZxTth1up/7AGev9FAAMHDqRvZF92bN9BQmICUdHRhIWF8be/vuW66DUll8t7/Q2Ew+G4om83AEaPHcOsvFnSPmw2G++sf4fDhw65LnqBqw0HZzAkD0km/1Q+yUOSeXPdm5wuKHBd9JLEBZhw5WTgO8KfPmuiUYV/d1/Bu7+W8Duj6DjSRv2H568oGLpTKpXkTJlCp9FIQGAAISEhrovcUHZ9s5NPP/4Eh92B1WrtdTBcLblcztz5c0lKTuIvr77GhrfXs+efu1m+YjmJgxNdF78kRWRk5KOuEwXhcgyn2lFHawiYFIzdaCd0UQQdh1u7guHKG6OBgYH4+flRVlpGWWkZnaZOIqOiOXTwWyyW69Nr1N/fH71ej0ajQavVXvbl4+ODQqHAZDK5buqSykrLMBg6OHrkyBUFg1arpbOzUyri0xt+fn6MnzCBt996m7LSUgCKi4pRq9VEx0Rz4vgJ11UuSlxWCFdNppQRtrQv2iQfWvc0f3cpcZV/TXK5HLlcjtX6XS9RmUyGUqm8aDBoNBqioqOwWKyUlZZit9vJyMxEpVaxc8c3PZZVqVQkJSdx+NDhHtPDw8Ov+Obi1axzta72skIul19w+SPrKjHoOv1SxGWFcNUcVgfn36qk/oMa6v9+/qqDga5+C85goOv6/mLBABAWHs7QtKEMGjSQ2xYuwNfXF5vdRtHpQgB8fX0Zlj6MiD4ReHl5MTBuEHq9ntjYWNdN/ei4C4CruV8iwkH4tzisDlr3Nl/VpcS/q6qyii2bt+Dv74fVasVmtRGfEA/AtNxpyOVy/P39AdBpddw661bqXb4l0A3xRZvog2agFu9YDaoINV4hKpQBXij8lCh0CuRqOTJlV3Hfm4gIB+GG5uXlhVyhoLOzk8bGBmn65i82ExoaSlJyMjKZjMDAQFqaW+jo6OixvrnKhKXRgs1gBxko/b1QhanxjtWgjdehS/XDN1OP/7gg/CcG9Vj3x07ckBRuSL5+fozKGkXK0BS+2f4N3t5qssePJ6JvH+pq60i7JQ0/Pz+MnZ2cLTmLPkBPTU0NsbGxlJ8rB8DHx4fWuhbsHTZsbVaszVYs9WYstWbMNSbMVSZM5Z2Yyox0lhownTPio/Whvb3d9XCui6u5IXktiRuSwk3rSrtsy+VyQkJCbpou29ctHH6otBOE3lKpVAQFBfX6XoLD4aChoeG6FHvp7TF8n655ODhDQYSDIPSeMxw8KSRkM2bMuGZnsTMQ7HY7drudtra2Hl9PCYLQk1KpxNfXV3rOAw8KCFl6evo1CYfuLQa73Y6Xl9cPWsVGEG4UNpsNi8XSo5+HJwTENfsqs/t/xuFwiGAQhF5SKBQ9LsM9IRgAZBkZGdes5eBsNdhsNry9vV0XEQThIoxGI0qlUmo9eEJAyJ0Hci1fgiBcGddzyBNe1+yyQhCEq+eJ3+6JcBAEwS0RDoIguCXCQRAEt0Q4CILglgiH68BZZv16USgU13T8het9vMKN6dr9hf2b/P39mT9/Pvfddx+TJ0/Gy8vLdZFrzsfHB7W658ArarUanU7XY9qV8PPz4/HHH3edfFmyrpoDvbF48WJGjRrlOvmK+Pn54eXlhVar5emnnyYgIMB1kSuSnp7O9OnTpdfo0aOleWlpaURFRfVYXvB8HhEO3t7ePPzww1RXV7N+/XqioqK4/fbbpfnuTlbXaXK5HI1G02OaTqe74BPWx8dH+vfcuXMZMmRIj/lDhw4lLy9P+lmpVF4QIE4qlQqVSuU6GblcjkKhuOB4vL29ezw52n0ZlUrFf/7nfyLr9pxI92Ol27E4v4d2dbkHz7q/ZytWrKBfv34YDAZ+85vf0NTUBF3FU5zB7Poee3t7X7SVUV1dzdmzZ5k0aRLl5eWUl39XM6Fv3778/Oc/Jz7+uwpNwo3jmvXK7P6EpNVqvewfanfDhw9n2LBhvPzyy9D1Rzhy5EhOnDjBz3/+c9rb29FqtTz11FPMnz+fyMhI7HY77e3tPPPMMzz11FM0Njbi6+vL/v37+eijj1izZg2+vr4EBATwyiuvUFtbyy9+8QssFgt+fn68//77rFmzBpPJxGuvvcaRI0fQ6XT87//+L1qtlk2bNtHe3k5ubi4mk4n8/Hw2bNggfR89depUxowZg1wuZ8eOHXz55ZfQ9Yn8hz/8gcrKSvz8/Ni6dSvbtm1j1apVhIeHo9Pp2LBhAy0tLdx11120tbVRVVVFe3s7t956KyUlJbz44ovcc889GAwGfHx8+MMf/kBkZCQrV66kubmZgIAA/v73v7Nz504AcnJyyMnJoaOjg88//5whQ4bw2muvMXHiRLy9vfHx8SE1NRWDwYBKpeKTTz7h7rvvpq2tjT/+8Y/89Kc/5b/+6794/PHHqampITg4mIqKCrRaLW1tbTz//PPMnTuXpKQkNBoNmzZtorm5mWXLlvHwww9L74lcLufxxx/n0UcfxWg0olAo+NWvfoXJZOLYsWN89dVX0u9c6MloNH5X1cqDnpC85pWgnAFxsU8YdwYPHozNZiM//7tReaxWK6WlpSxatIjdu3ezfv3676oLZ2SgVqvZtm0b7777LrNnz2b//v1MnjyZp556il27drF06VKqq6tJSEjgjTfeoKGhgcmTJxMUFERZWRmvv/46dXV1GI1GHA4HW7Zs4VBXuXCLxUJzczOtra18+umnrFmzhv/6r//iq6++YubMmRQWFkpVgAIDA6V1Fy1aJP3hq9VqcnJyeOSRR/j2229ZvHgxlZWVDB48mMcff5xDhw5x9913097ejsVi4a233qKxsZE9e/YwatQoHn74YW699Vaqqqr4+OOP8fPzo2/fvuTk5PCnP/2Jzz77jMGDB1NVVcW5c+cAGDRoEC0tLTz//PMEBwcTHR3Nt99+y8CBA1GpVGg0GgoLC/nLX/7CLbfcwt69ewkKCmLDhg2UlJQwY8YMtm3bRnZ2No888gje3t40Njby5z//mblz51JYWMicOXP405/+xOnTp1m2bBkbNmzg8OHDGAwG6fcok8mYNGkS27dvx2q1kpWVhbe3NzU1NZhMJkpKSqRlhZ6sVisKhaLHE4o/NI+4rGhvb+9xva1SqRg1ahRBQUFUVFQAUFNTg7+/Pw6Hg5qaGimEnOXM6+vrpVAKCQlBJpMxYsQI9Ho9u3btIiwsjLKyMgCOHj1KwWVG/9HpdJhMJoxGI3a7nfr6eum6XCaTMXToUJYuXcr8+fPRaDQ9fpnt7e0YjUZsNhsqlYqAgACqq78br7C9vR2lUsnWrVuprq5m5cqVzJkzp0eYhoaGotfrGTFiBK2trRQWFqLT6aRh2NyVRnc2491xOBzSZYPJZEKr1bouAl2fXs6WnzMEHQ4HAQEBWK1W0tPTGTBgAF988QU2m+2CYq3daTQaFi5ciNlsJikpiaFDh7q9BBM8l0eEw7Fjx0hMTCQtLQ2dTsesWbNISEggPz+fiRMnotFoGDVqFEVFRa6rulVUVIRGo2HHjh00NDTg5eXFyZMnGTt2LDqdjlWrVpGamkpnZychISE9rq2tVisBAQHYbDZkMhnx8fGEhITQr18/6QRUqVQMHjyY119/ne3bt3fbs3ulpaUMGTKEgIAAkpOTaWxsJCMjA5PJxAsvvEBgYCAajQa5XE54eLjUgvrqq6/QaDQYDAbKy8u55ZZb0Ov1pKWlue5C0tnZSXBwMDqdjqFDh7rOlnR2dhIaGtqry7+KigpUKhX79++nsLAQvV5PYGAgkydPvugnnNVq5bXXXuPUqVM0NjZK4S3cODzissJisXDo0CEmTZrEhAkTqK2t5YMPPqCoqIh+/foxc+ZMSktL+fzzz1EqlVRWVmIymVCr1RQXFyOXyzl9+jQymQyFQsG+ffuwWCwsWLAAjUbD1q1bKSkpISIigpkzZ1JeXs7OnTupqalh1KhR0h8vQFNTE3FxcXh5ebF582ZmzpxJeno6H3zwAZWVleAcCLWhgfnz56NSqcjPz+f06dPQ1apQKBQUFhZKzcMDBw7Q1NTEggULCAoKYt26dZSXl5OVlcWECRPYsmULBQUFNDY2Mn78eD755BMiIyOZNWsWNTU17N+/n5MnTzJp0iQyMzM5cOAAJSUlUktCqVTS1NREU1MTzc3NhIWFMW3aNAoKCjhz5gzNzc3U1tbS0tKCl5cXlZWVlJSUMG7cOMrKyjCbzZw+fRqlUklxcTEKhYLGxkYaGhpQq9WcOHGC0tJSbrvtNmJiYvj0009RKpUkJiZy8uTJbr/J74KzqKgIi8VCTU0N1dXVdHZ2cvbs2Uu2NG52nnhZ4RE3JAXhZueJNyQ94rJCEATPI8JBEAS3RDgIguCWCAdBENwS4SAIglvX7dsKvV5/0T4JgiD8i8lkoqmpyeO+rbhu4RAaGnpBxyFBEC7U3t7O+fPnPS4cxGWFIAhuiXAQBMEtEQ6CILglwkEQBLc8JhyUSiXDhg0jJyeHuLg46Co9Nn78eNdFPYpOp+Ohhx66oOKUINzoPOIvWqlUsnLlSsLDw6mqqmLcuHHk5OSgUChQKpVSbzUnZ8/H7txNc9cz1N00J9f1XXVf9+677yY0NBSj0ciGDRuk7sjybkOpu+7rYoVhH3zwwQtKsrly3ZazFJ0gXC8e8VVmQkICGRkZvPnmmwBotVrGjBlDc3MzGRkZ2Gw2ANatW0dwcDCzZs1CJpNx/Phx9uzZw6pVqzCZTPj5+bF582YKCgqYN28ewcHBdHR00NbWxscff8z8+fPx9/ens7OTDRs2YDQaARg9ejSDBw9GrVazdetWIiIi+Prrrxk7diz19fWEhYXRr18/tFotzc3NHD58mCVLllBfX8/69euZMWMG69atk8rO+fj4UFpaSmRkJJWVlXz44YeMGDGCjIwMAL788kupNkVmZiazZ8/m3LlzHDt2DJvNxu7du0lOTiYsLIzQ0FDkcjmBgYFSV/a+ffsyc+ZMZDIZR48e5ZtvvpHeS+HGI77KvITAwMAe1Y0MBgObN28GoLW1lbVr11JSUsKQIUMIDAzknXfeYe3atYwYMQKdTkd4eDjvvPMO7777LtnZ2SQlJQHw4osvcvz4cQICAhg1ahR1dXW89NJLVFVVMXLkSGl/Pj4+1NbW8uKLL6JWq/H19YWuSwZnDcby8nJefPFFQkJCaGxspKKigrfffpuWlhaCgoKQyWQEBATw17/+lRMnTmC321m7di2DBw8mPDycMWPG8NJLL/HOO++Ql5cn/fL3799PQ0MDb731Fvn5+WRmZiKXyxkzZgwFBQUEBQVx8uRJXnzxRRwOB0OGDGHevHm88847vPTSS2RmZkrHKwjXkkeEg2vpMoVCQb9+/QCorKzE4XDQ1taGn58fAAsXLmTVqlVotVoUCgUGg4G2tjaMRiNqtZqQkBDKyspwOBxUVlZit9uJjIwkKiqKuXPn4uvrS11dnbQ/uqoduVYq6p7edXV1OBwOTCaT1Jy32+04ug2A2t7ejslkwmQy0dLSgs1mw2azERgYiLe3N3l5eYwbN04qDOPcBl0FZOrr62lrayM5ORmFQkFlZSU2m43Tp09jt9s5e/YsAwcOJCAggOzsbPLy8igpKbnguAXhWvCIcCgsLCQxMZG+ffsik8kYPnw4WVlZrotB1yXA+++/z/r1611nSUpLS0lLSyMoKIi0tDTkcjllZWWcP3+ejRs3cu7cORobG11Xg66TVKfToVAoiIiIcJ0tcTgc0nKXU19fj9ls5rPPPuPrr7+mpaWlR6jQdSklk8nYt28fc+bM4eDBg9AVlEOHDkUulxMfH09+fj719fX885//5KOPPsJgMNDZ2dljW4JwLVy3MnE6na7XBUXNZjNlZWXMnDmTiRMnIpfL+fvf/45KpZLKjel0Oqnc2Jw5cxg0aBDnzp2TahqeOnUKpVKJv78/e/fuRalUMmrUKIxGIzqdjs8++4zU1FRmzJiBUqnkwIED0r0MX19fWltbaWxspKWlhWHDhjFhwgTq6uo4e/YsNptNKsEWHBzMuXPnqK+vZ+rUqRQXF6PVaikoKCA4OJjTp0+j0+kwGo3U1tYSHh7O0aNHaW9vZ+HChSQlJbFv3z6pxBtdgTRp0iSOHj1KQ0MDI0eOZOPGjdhsNoYNG4ZOp2PatGlUVFSwe/duKioqmDdvHqNHjyY/P18qwivcmMxmMx0dHTdPmbgruSF5rQUFBZGbm8vHH39Meno6KpWKzz//3HUxj6PX64mPjycqKooPPvgAur4VWbdunWgd/IiJG5Lfo8bGRo4fP05eXh5eXl43zGAqOp0OnU7Hp59+Kk3bv38/Vqu1x3KC8H34UbYcBOFGIloOgiDcUEQ4CILglggHQRDcum73HESZOEHonZuuTJwY8UoQek+MeCUIwg1DhIMgCG5dt8uKsLAw0VtQEHqhra2Nmpoaj7usuG7hIO45CELviXsOgiDcMEQ4CILglggHQRDcEuEgCIJbIhwEQXBLhIMgCG6JcBAEwS0RDoIguHXdCsy6jtB0OTqdjpycHLKystDpdFRVVV1QoflaU6vVyGSyHqXdlUolXl5eUvHZ74tCoUCtVv9bJeHkcjnDhw9n8uTJxMTEUFNTg8lkQiaTkZyczLRp04iLi6O+vp6Ojg6GDh1KQkICsbGxxMTEUF1djc1mIy4uDoVCQUdHBwDx8fF4eXmRlJSEo2uYALrGG0lPT6eqqkqUx/83Wa1Wjysw6xEtB7VazW9+8xusVivbtm0jNTWVn/zkJ9J8jUbTY3nggicwZTLZBV3Evb29Lxh+rvu2Fi5cyNChQ3vMHzZsGHPnzpV+VigUF62i7QwSd1Qq1WXL1ndfJiEhgZUrV0rz3O1X0TU8IG7+/wDz5s0jPT2dbdu20dzczK9//Wu8vLwYPXo0s2bN4ptvvqGsrIzf/OY3+Pn5kZubi91up7W1ldbWVimMw8LCmDlzJnTt84477sBut7N48WIWLVok7W/atGmsWrXqgvdd+HHwiJbD0KFD0ev1bNiwgdbWVk6cOEFISAgNDQ389re/ZdSoUYwfP56DBw+yZMkSbr31VrKzs0lOTubAgQM88cQTjBgxgunTp6NWqzlz5gyrVq1iypQpTJs2jcLCQiwWCw899BBjx45l0qRJNDU1MX/+fIYMGUJ1dbVU/v7nP/85cXFx2O12AgMDeeCBBxg3bhx6vZ78/HzpmMePH8/q1auZOHEiNpuN0tJSaV5eXh4/+clPmDp1KnV1dfTr14/09HQKCgpYsGABarWaYcOGsXjxYqZMmUJ1dTVLly4lLi4OlUqFn58fP/3pTxkzZgx6vZ6CggKefvpphg0bxuzZs+nXrx9Tp04lIyODf/7zn9A17sXtt9/OE088QVNTE2VlZVRWVtLU1MTq1at57rnnqK6uprKykra2NlpaWrjlllv4/PPPKSkpoaamRvr0d743X331FZGRkSQnJ/Pll1+SnZ1NQEAAu3btQi6Xs3DhQmw2G9u2bcNisUj/f+HKeWLLwSPCISkpCavVKp18VquV4uJiFi5cyOHDh3nzzTfx8vIiPT0drVbLzp07efvtt5k/fz779u1j6tSpPPfcc3zzzTcsX76ciooKkpOTWbt2LQ0NDUydOpWgoCBqa2t55ZVX6OjooLOzE5vNxpYtWzh06BAAFouFpqYmWlpa+OSTT7jvvvt49NFH2bJlC/Pnz+fUqVNSUzs2NpYPP/yQgwcPsnTpUqnCdUREBHPmzOGRRx7hwIEDpKSkYDKZ0Ov1nDx5kltuuYWmpiZycnJ455132LFjBzabjfz8fNRqNRs2bOD++++X9rtgwQLy8/OZMGEC//M//4PBYMDf359nnnmGOXPmsGfPHkwmE2FhYaSkpEgndHp6Or6+vjQ1NTF58mQ+//xz6VKpvLwcg8FAdnY2EyZMYMKECaSmprJnzx7oGkchJSWFxsZGbrnlFoqKiigpKWHixIkcPnyY4OBgaZjAoKAg/vGPf4hw+Dd5Yjh4xGVFR0cHer1e+tnLy4thw4YRFhZGSUkJdP1BBwYG4nA4qKiowOFwYLPZUCgUWK1WampqsNlsKJVKIiIiUKvVTJkyhejoaL799lv69u1LcXExdJV7P3nypLQ/d3x9fTGZTHR0dGCz2aiuriYoKAi6LmGio6NZs2YNt99+OxqNRvplOge9sVqtNDQ0sGnTph7bdS63du1asrKyuOeee6Sh/+gat9NgMNDe3o7NZqO2tpbAwEDpWCwWC21tbVIIO7fX3t6ORqNBLpfT2dlJY2Mj48aNIyoqCovF0uMSJS4uDr1ej81m44knnuC3v/0tTz/9tDQfYMeOHYwZM4a0tDT27dsnTd+9ezdjxoxh9OjR/OMf/+ixjvDj4hHhcPz4cVJSUkhMTEQulzN16lSGDx9OUVERo0ePRiaTkZ6e3qPpfilnzpxBJpOxadMmiouLsVqtFBQUMHLkSBQKBUuXLiU1NRWTyYS/v3+Pa2abzYavry9GoxGlUklMTAy+vr70799fGllKpVIxbNgwnnvuOT755JMeKV9RUUF8fDy+vr4kJCSwevVqLBYLgYGBeHl5MWDAAACmT5/O+++/zxtvvMHIkSOx2Wz4+PhgMplQqVTExMTg5+dHVFQUlZWV0vYvprm5mfLycqZPn05jYyMWi4Xo6GjoOqEXLVqESqUiLCyM1atXQ1dQ6fV6AgMDCQwM7HF/5tSpU6SlpUn3I5xqa2sxGo1ER0dLwS38OHnEZYXZbOb48ePMmjWL3NxcOjo6WL9+PQUFBaSmpjJ//nxqa2v5+9//jlarpby8XDqxT58+jVar5eTJk8hkMnQ6HTt37kSlUrFs2TICAwPZunUrRUVFxMXFcdttt9HQ0MDXX39NXV0dkydPpqmpidraWuga1Ts1NRWNRsPWrVtZtGgRo0eP5qOPPpLCyWazYTAYWLJkCf7+/hQVFUktkc7OThoaGli2bBkDBgzggw8+4OzZs9xyyy1MnTqVgoICTp8+TU1NDUuWLCEhIYF3332XsrIyBg0aRHh4OJ988gmLFi0iKyuLTZs2cfbsWfz9/Tl58iQqlQqj0UhVVRV+fn4UFBRI33AcP36c9PR05s+fT0BAADt37qSsrIyDBw8SGRkpDcf33nvvce7cOfR6PUOHDiUpKYnExETy8/OlywOLxYLD4eDAgQPU1tYik8mk/dXX11NaWsq5c+fw9/cnPz//e/9258fGEy8rRD0HQfAAop6DIAg3DBEOgiC4JcJBEAS3RDgIguCWCAdBENwS4SAIglsiHARBcEuEgyAIbolwEATBLREOgiC4JcJBEAS3PCYclEol6enpUimzG5Wvry//+Z//6Tq511QqFb/97W8vW0Wqt7Kzs1mwYIHrZEG4LI8IB6VSyc9//nNSUlJob29n4cKF3HrrrdJ811JvvZ3m+rPrtKVLlzJs2LAe80eMGMHChQulny/VCcbdPGc36O4/u3I9ru7bkclk+Pv795jvuow73ecHBATw+9//HoCjR4+yY8cOaTnnvt1tz/W4hJubR3TZHjx4MAMGDGDt2rWcO3eOw4cPM2TIEEpKSli5ciVTpkwhISGBEydOMGPGDLKzs5k+fTqhoaHk5+fz05/+lFtuuYXc3FzMZjMVFRXMnDmTuXPnMmLECIqKirBYLCxbtozc3FySk5NpaWlhzpw5DBw4kOrqaurq6tBqtdx5550MGjSIzs5OvL29Wb16NePGjQOgrKxMOubU1FRWrlzJ2LFjaW1tpaamBrrqYWZnZ7N161amTZvGggULGDlyJBUVFbS2tjJz5kzmzZtHZmYmp0+fJiIigrvuuotx48Yhk8moqKhg/PjxbNu2DYfDgbe3Nw888ACjR49GqVQyfvx4qqqq6Ojo4P777+fo0aM88MADZGZmkpOTQ01NDdOnTycpKQk/Pz/MZjNRUVFEREQwc+ZMcnJyiIqKYuLEiUyePJni4mIsFgsrVqxgypQpxMXFceLECVEw9nvmiV22PeKjIjw8vMeJ19rayvr165kxYwaVlZU8/vjj1NfXc+utt9KnTx+Kiop4/PHHGTlyJL6+vsTFxbFlyxZeeeUV5syZQ1xcHAkJCfzf//0fu3btYtGiRUyaNAmLxcLjjz8u1Uc4cuQIn3zyCadPn4aubrNffvklBw8eZM+ePaxYsYI///nP/PGPf2TKlCkEBARIx9i/f39eeOEF/vznP7Nw4cILfpmxsbGMGDGCJ554gvfee4/Vq1eTmJhIYmIiTzzxBJs3byYzM5OBAwfy1ltv8eyzzzJ79uwLtiOXy0lMTGT9+vX885//JCYmRipO079/f+RyOXFxcaxbt44PPviAWbNm8dFHH3H+/Hnee+899Ho9wcHBBAYG0trayjPPPENWVhZvvfUW33zzDdnZ2eTm5lJVVcXjjz8OwJgxY3ocg3Bz8ohwMJlMPapCKxQKYmNjiY2N5ejRo9hsNk6ePEnfvn1xOBwUFBRgsViwWCwolUosFgtnzpzBaDSiVquJjY1Fr9ezZs0a0tPTqaioYNCgQRw6dAibzcYXX3zBgQMHsNlsmM1mqVCJw+HAYrFgtVrR6XSYzWbq6uowGo2cO3eO8PBw6RgNBgO/+tWvuOeee9DpdBec1H379pVaLJWVlWg0Gvr168epU6ewWCwcPXqUTz/9lJaWFtasWcODDz6Ij49Pj204tbe3U1VVddGy9S0tLbS2ttLe3o63tzdmsxm73Y7JZOqxXGlpKRaLhY6ODpqbmzEYDFK4JCUlcffdd6PRaKTS88LNzSPCwVmSLCIiAplMRmZmJnl5eVRUVDBkyBBkMhnx8fFUV1e7rurWuXPnqK+v5+WXX+bLL7+ktLSUM2fOkJycjEwmY8qUKSQmJmK1WtFqtT0ugex2OxqNho6ODlQqFcHBwajVaiIjI6VqUWq1munTp/PYY4/x+uuvux1fo6amhgEDBuDl5UVERASdnZ2UlZVJY0KkpKSQnZ1NXl4ea9eu5fnnn+9VNSVncAUGBqLT6VxnQ1fIeXl5XVDa/mKKi4s5fvw4a9eu5dixY5SXl7suItyEPOKeg9FopLy8nDvuuIPc3Fz8/f1Zt24dJ0+eZNq0acyePRuFQsH69esJCQmhtLQUo9FI//79OXr0KFFRURw4cAClUkl0dDRffPEFsbGx3H777cTHx7N9+3by8/MZN24c8+fPl0rAtbS0MG/ePBobG6XgMRqNTJgwAW9vb3bt2sWdd97JxIkT2b59OydOnICuMnEajYYlS5YQGxtLTU0NBw4cgK6bq1FRUWzdupWAgACWL19OSkoK69ato6ioiNjYWJYuXUr//v354osvaG1tZcmSJQwePJjz58+zf/9+YmJiOHToEA6HA7lcTmxsLPv374eusvHLly8nNTWV6upq9u/fT3R0NIcPH0atVhMUFMSBAwfo168fGRkZFBYWYrVaaWtro62tjbq6OmJjYzl06BA+Pj4oFAq2bdsmvc8ajYZdu3b1KqiEa8cT7zl4XJk4mUx2wSexu2m94W49d9OuVm+25W4Z12muP/9QPOU4bkaiTFwvuPvjdDetN9yt527a1erNttwt4zrN9ecfiqcch+AZPC4cBEHwDCIcBEFwS4SDIAhuiXAQBMEtEQ6CILglwkEQBLdEOAiC4JYIB0EQ3LpuT0iGhobi6+vrupggCC7a29upqanxuCckr1s4XO3j04JwMxKPTwuCcMMQ4SAIglvyxMTEC+oCqFQqtFptj2mXIpPJSEpKuqJu2oIgeDb50qVLiYiI6DFxwoQJzJkzp8e0S5HJZKxatapHNSdBEG5scgCtVsuAAQMICQkBYO/evXzxxRfQVfWof//+REVFSSt5e3vTv39/oqOjPeLGiSAI155i+fLlj6alpREYGMjSpUvZt28fWVlZJCcnU1xczO9//3v69OnDmDFj6NOnD2fPnuV//ud/CAoKYvz48YSGhnLy5ElycnL4+uuvMZlMV1wJShBudp5YCUrucDh44403eOmllzh58iQDBgyQZg4fPpz6+nqeffZZ/vCHP+Dv74/D4eD111/nvffe45NPPiE1NdUj/iOCIFxbcrqqPwNYLJYeA5vodDoaGhqgq1z82rVrUalULFu2jNtuu42UlBRpWUEQflwu+VVmRUUF8fHx0j2G//3f/2XgwIEYjUZeffVVCgsLr0mrYdCgQT1GeRowYABZWVk89NBDPZYTBOH7I29qapLGQ2htbaWzsxODwUBHRwcnTpzgwIED/Pd//zcrVqzgr3/9K6dOnaKjo4Mnn3yS4cOHS62OxsbGq65BOHDgQKZNmwZd1ZvvueceSkpK+Otf/yot09sy6911v+/hHAim+zzXYOvNPmQymTSOpUKhuGBMS9dtuNuPINwIPOLx6eDgYH71q1/x61//mv79+7No0SL+9re/kZOTw5tvvsmaNWvw8/PDZrOxfv168vLyeO6551i+fDklJSXs37+fn/70pzz55JPY7XZSUlKYO3cu3t7evPzyy8yePRudTofFYuGFF15g/PjxDB8+HLlczquvvorBYODee++FrgFi1q5dy1133cXGjRupqqrikUce4U9/+hM/+9nPkMlk7Nu3D6PRyMSJE5HJZGzcuJH8/HzuueceNBoNnZ2dvPDCC0yePJn09HTkcjmvvfYapaWlrv91QQDx+PTFNTQ0YDAYiImJYeTIkezatQulUomfnx/jx4/n/PnzPPHEExQUFJCRkUFwcDA6nY7BgwczfPhw+vXrR0NDgzS+o0qlwmQy8fDDD5OcnExpaSlPPPEEhYWFZGdnM3nyZP7yl7/w6quvolQqmT9/Pp9++im///3vqaqqYvz48fj5+Uktj4CAAORyOSEhIbzwwgvs2bOHKVOm8N///d/84Q9/IC4ujmnTpnH69GmeeOIJqqurmTBhAtnZ2bz66qu88sorF7QwBMHTeUQ4OBwOtm/fztixYxkyZIg0QAxdY0727duXhQsX4uvrS0lJCYWFheTk5HDq1Ck0Gg3Dhg3j0KFDPbZZWVmJ3W4nIiKCmJgYaf3z58/zyiuvMG/ePFavXk1AQADh4eEUFxfjcDgoLi4mMjKyx7acjEYj9fX1BAUFUVtbi9lspqmpiQ0bNhAdHU2/fv1YuHAhCoWCiooKXnvtNRYsWMBdd91FYGCg6+YEwaN5RDgAHD58mFGjRnH+/Hk6Ojqk6YWFhTQ2NvK3v/2NiooKmpqaOHToELm5uRw8eJCSkhIyMjI4depUj+05lZWVUVtby1tvvUVFRQWNjY2MGjWKl19+mQ0bNjBq1ChKSkqky4y0tDSKioowmUzo9Xq3Xc9ramro06cPvr6+REVFsXr1aoqKiqipqeGtt96itraWlpYWMjMzefnll3n33XcZPXp0j20IgqfziOHw6Po6VavV8s9//pP6+npUKhVqtZpt27aRkpLC4sWLkclkbN++nebmZoKDg/nqq69oaWnBZrNx5MgRaVve3t44HA7Kyso4d+4cw4YNY/Hixdjtdnbs2IFSqeSOO+4gLi6OjRs3cvDgQXJycpg7dy4VFRV88cUX1NTUsGTJEpKSkigsLOTYsWPo9XqOHz+OyWSiqamJVatWkZqayqZNmzhy5AiZmZksXLiQzs5Odu3ahUqlkvbz/vvv09TU1OP/LAhOnvgQlEfckBSEm524ISkIwg1DhIMgCG6JcBAEwS0RDoIguCXCQRBuYjKZDLlc7vYlvq0QBA/wQ31bodFoCA8P79Eb2+nCKYIg3FSUSiVeXl4XvEQ4CILglggHQRDcEuEgCIJbIhwEQXDLI8JBqVQSHR3do7NWQEAAYWFhPZbzdHl5eYwaNcp1siDckDwiHAIDA3nyySe55ZZbpGk/+9nPuPPOO3ss5+kOHTrE6dOnXScLwg3JI7ps63Q6RowYgV6vZ/fu3YSHhzN58mTa29vZu3cvCxYsYMaMGfTr14+CggJycnLIzMwkNzeXwMBACgsLycjIYPHixYwYMYLy8nJMJhMLFy4kNzeX6OhowsLCKC8vZ/78+cycOZOYmBhOnz6NzWYDYMiQIdx+++0MHz6cioqKHuv37duXgoIC0tPTWbx4McOGDaO0tJTo6GiWLVtGZmYm1dXVxMTEYLfbsdlsLFu2jEmTJhEYGEhxcTFLly4lNTWV6dOnYzabaWhoYOnSpUyZMoXAwECKiopc3xbhJvJDddn28vLCz8/Ps59zOHfuHHq9Hr1eT1ZWllTZKSwsjI6ODp566ik0Gg3p6ekMGjSI9vZ2nn32WUaPHo1WqyUhIYG1a9eyfft2Fi9ezOjRo/H29ubpp59GJpPRv39/srOzUSqVPPnkk8hkMsaOHSvtf8GCBWzatIlPPvmEvn37Mn36dAwGA0899RRBQUGMGTOGhQsX8vbbb7Nlyxb69OnDokWL+PLLL/nwww+JiIggKiqKwMBAli1bxvHjx3nmmWcYOHAgaWlp3HLLLRw+fJg33niD2267jYSEBAICAqTjcy2AKwg/NI8JB7vdzu7du8nKyiIjI4M9e/ZAV8HXgQMH8vvf/57ExET8/PxwOBwUFhZiNBoxGo34+vrS2trKf/zHfzB37lx8fX0ZMGAA3377LWazmWPHjuFwOOjfvz/9+/fnvvvuIzQ0VGo1AGzatInly5dzxx13YDAYGDx4MImJidx7771S0dgPP/yQ+++/n8WLF2MwGHjvvfdYsGABq1evprOzU9pWv379OH78OGazmSNHjhAdHY3FYuHkyZO0tbWhUqkoKirCbDbzf//3fwQEBEgVwAXBU3hMOADs27eP6dOnU1FRgcFgACAjI4Pa2lp+97vfXbQUXEBAAKNHj+Y//uM/eP/99wE4e/Ys6enpaLVaaVSu8+fPc/jwYZ577jm2bdtGQUEBAHK5nMDAQB577DH+8pe/MGvWLMrKyti7dy/PP/8833zzDWfPnsXPz49HH32UDz74gJkzZxIREcFTTz3Fn//8ZxYsWCAdT21tLdHR0cjlcvr3709dXZ00zyk4OJjdu3fz4IMP0qdPnwsGMxaEH5pH3HNQqVT07duXvXv3EhkZybZt2+jo6CAiIoJdu3YxY8YMsrKykMvlnDlzBqVSSVlZGc3NzcTHx/Ptt99KlwJ9+/aloaGBTZs2kZSUxJQpU7Db7djtdj766CNyc3OZPn06kZGR7Ny5E4vFgsPhICYmhmXLljF06FD+8Y9/sHPnTmbPns3UqVMJDQ1l586dDBgwgCVLljB48GC+/PJLHA4Hy5cvJy0tjS1btmC1WmloaGD37t3SPYf29nY+/vhjEhIS2LdvH0qlkvj4eHbv3s2iRYuYOHEiBoOB7du392jJCDcXT7zncEN0vHL2HLvcyaNQKKRl+vXrR0ZGBu+++y5z587FbDbz8ccfS9uy2+04XAbhcb5BzhL37vbruozrz07u1nXVm2WEm8MP2fEqMjLS7dAJF8aFB3I4HL06gbovU1FRAcCjjz6Kr68vmzdvhm7bcg0Guk7w7ie5u/26LuP6s5O7dV31ZhlB+KHcEC0HQfixEy0HQRBuGCIcBEFwS4SDIAhuiXAQBMEtEQ6CILglwkEQBLdEOAiC4JYIB0EQ3BLhIAiCWx4RDs56Bs6X8+mwoUOHkpmZ6br4DSs9PZ2UlBTXyQDExsYyadIk18kAzJo1i6CgINfJ3wu1Ws3ixYvddswRftw84jceEhLCs88+yz333MPDDz/MQw89hFarpaOjg/b2dtfFfxDLly9Hp9O5Tr4iMTExREZGuk4GICgoiISEBNfJAKSmpl503/fcc891eVT99ttvJyQkBLvdTkNDg9u+KMKPm0d02dbpdMTExPDHP/6RHTt2EBAQwNChQykvL0epVGK321m4cCEjRozg/PnztLW1kZWVxZw5cwgNDeXMmTP4+voyf/58xowZg8FgoKWlhRkzZpCamsro0aOpqqpCpVIxceJExowZQ3JyMmfOnMFmszF58mRuvfVWNBoNZWVlaDQa5syZw8SJEzGZTAQGBpKXl4der6ewsBCLxQLAoEGDWLhwIYmJiZSVlREQEMDYsWOZMGECAwYMoKioCC8vL2bPnk12djZ+fn40NTVJJeEUCgU5OTnMmDEDHx8fvL29OXjwIDk5OT2OZ9y4cRw5cgSA2267jaysLFpbW4mMjGTWrFloNBry8/MZO3YseXl5+Pv7c/bsWemEHjp0KGlpaWRnZ1NbW8vAgQOprq4mOTkZnU5H//79SUlJITc3F5VKhVwuZ/78+QQHB3P27FmioqKoqqpi6tSpjBo1ivj4ePR6PXPmzKGzs5Pz588THx/PggULiIuLo6ysDJPJ1O03LFyOJ3bZvnDKD8zhcHDo0CHi4+OJjo4mLi6O2bNnc+bMGf7xj3+QmZlJamoq48aN44033iAkJISxY8dy3333cfbsWd5//32WLl1Knz59yMvL4+TJk5w4cYIlS5bg7+/P9OnT+fTTT7HZbOTk5JCdnU1MTAyvvvoqI0aMYPjw4axYsYL29nbWr1/P/PnzMRqNtLS0cOTIEcxmM3Sd2Hl5eWzcuJHy8nJuv/12QkNDmTx5Mh988AGBgYFkZmayYMECrFYrGzZsoG/fvj3+r6NHj2bQoEGsW7eOgIAAACZMmEBkZCSvvPIKw4cPJzU1Fbq6ht9zzz2cOnWKTZs2cdddd1FXV0dHRwdHjx5l+PDhDB06lFdffZW4uDjGjRsn7ScpKYmkpCQ2b95MREQEycnJAMTHxxMVFUVycjKxsbH87W9/47bbbgOgubmZY8eOYbFYGD9+PDqdjunTp/PFF18QERFBUlISGzduZMWKFQQGBrJy5Uree+89zp07d8MVBhbc87hwoOtE6N4N+tChQ9Kn6alTpxg6dChbt26lpaWF119/nb179xIUFMTu3bupra3lxIkTDBgwgNbWVk6ePMmZM2cIDAwEoLS0lPPnz1NcXExwcDDDhw8nKCiIO+64A6VSSUhICP3792fz5s3U19fzu9/9jtLSUoxGIyUlJVI5N5vNxp49e1iyZAlpaWmEhIQAUFRURENDA6dPnyY8PJykpCR27NhBU1MTu3fvlv5PACkpKWzbto3W1la2b98OXZcQISEhrFixAi8vLyk0vLy8iI2NZeTIkcyZMwej0YjFYsFsNlNaWkpqaip+fn7ccccd6HQ6fH19pf04HA52795NeXm5NM3Vnj17aGxspLW1FYfDgdFovKAFUFtbS01NDZWVlZw+fZrGxkboul/i7e3NggULSEtLw8vL63v75BOuH48LB7lczsSJE6UCswAmk4knn3ySDRs2sGrVKurr66WyagMHDqRPnz4A0gkRGBhIS0uL2+tk12l1dXVs376dF198kXfeeYc9e/bQ2dlJQEAAMpmM7Oxs6SZp96ZXQEAA8+bNY+3atVJVKNxsv6WlBX9/f+i6t9JdU1OTNC04OBiA+vp6tm7dyosvvsiGDRuk98Fut9Pc3My6detYu3Yt77//Pg0NDVITtK6ujt27d/Piiy+yfv36C4Ko+3E5u+d2DxB3dSVcu/G6/t+cWltbqaio4MUXX+T111/nww8/vOiywo3DI8LBbrcTFRXF7373O5544gmUSiWff/45VqsVi8VCUFAQv/zlL1m8eDH5+fns3LmTESNG8MADD7By5Ura2trYuHEjv/71r3nwwQeRy+VSAVrn9o1GI3a7XfoktNlsmM1mPvvsM2bOnMn999/PihUrsFqtfPDBB/zyl7/kF7/4BWlpaZhMJk6dOsUDDzwgncTt7e20tLSwcuVK5s2bR2dnJzabTdq+89g3btzImjVr+NnPfkZCQoJ0vwJg8+bN5Obmct9990n3NzZv3sy8efO47777WL58OXa7nc7OTkwmE5999hkPP/wwv/zlLxkxYgQOh4Pi4mLuvfdevvnmG8aPH8/999/PmjVrenxyWywWqcVTUlJCUlISDzzwAEOGDMFqtWI2m6Vw6OzsxG63c/LkSe6880769u0rTXMW0XVuz9nCOHv2LB0dHTz00EM8+OCDUitNuLHdMMVedDodXl5eNDc3Q1cLIyAggNbWVumE02q1qNVqmpqaXNa+NOdNmebmZukk8fb2RqvV0tTUJH0KajQaKXDodgzd13PH29sbb29v6di7UyqV+Pv709jYKO3Hy8sLf39/mpqaLtiu6/sgk8nw9vbGaDSiUCik47lUNWuVSoVOp7vs+6TVaqVCv70REBCAyWS6onWE73hisZcbJhwE4cfME8PBIy4rBEHwPCIcBEFwS4SDIAhuiXAQBMEtEQ6CILglwkEQPITzG78reV1PIhwEwQO4nvRX87rWRDgIggdwPp5/pa/uz0Rc65C4bg9BhYSEXLQGgSAI/2IwGDh//vy//RCUMxiuZN1LPQR13cJBPCEpCL13rZ6QtNvtV7T+pcJBXFYIwo/Mtbq0EOEgCD8i3e8//LtEOAjCDWBw0mBGjxmN3E05t+6u5U3JS+9JEIQfnEKpYPbcOcyanSfVE/k+iHAQBA9ns9p47513+eC9D6itrXWdfd2IcBCEG4BKpUKl/q4y+Pfl+9uTIAhXRaFUkjdnNjNnzfxeLysUffr0edT1Mcx/52W327Hb7Xh5ebnuSxCEi7jUuBUOu53qqirOlpRQWFjYYz1XznOw+8+uLyeZTHbpcStcV7xWryvl7+/P8OHDiYuLQy6X06dPH+bPn++62A0rNzeXuLg418m95uXlxd13333JwYIiIyOZO3duj2np6elMmTKlxzThxuPt7Y1Go3F7ErtyPRddz0vXny9GrtfruVYvf39//P39r/ix6eDgYB555BGio6OZNWsWc+bMQavVEhMT47qoR5HL5fz2t7+95AnrFBkZiZ+fn+vkXpPL5cTHx1/yyTedTkd0dHSPaZWVlRQXF/eYRteyv/nNb1wnCx5IoVQya3YeM2beetnLCoVCgb+//wXnpus5qlAoLhsQigEDBlyz4fCcO3OtmHw5cXFxhISEsG7dOg4ePIhCocBsNpOZmcngwYPJzMykuLgYk8nE9OnTmTt3LtHR0Zw9e5a8vDzy8/MZNmwYsbGxlJeXM3fuXEpKSrDZbMhkMrKysli8eDFxcXGcOXOGW2+9lYaGBpRKJbNnz6a4uJh58+YxY8YMfH19KSkpwc/Pj9tvv51JkyZhtVppampiypQpFBYWEhkZSXp6OoMGDWLs2LH4+PhQUFDAnDlzmDlzJnq9nuLiYgICAli2bBlZWVn4+flRUlJCVVUVdJ2cixYtYtq0aajVakpLS0lMTGTp0qUMHz6c8+fP09LSwrBhw1i6dCkDBgwgPDycrVu3kpyczNKlS0lJSaG0tFSq9hwcHExGRgbJyclkZGRQVFREUFAQer0emUzGHXfcQWZmJjU1NWRnZ5ORkSHte+HChUybNg0fHx9KSkrIy8tj6NChDBkyhIEDB1JXV4fRaGT8+PHQNSKWcO1c7rKiqrKSkjMlFBV+N5TixchkMpRKpfQY9sWYzWYcDodU6dxdi+TCKT+AU6dO0dnZyWOPPcb06dOlTzq9Xs/bb79Nfn4+s2bNIisri/79+/Pcc89hNBqZM2cOcXFx6PV6JkyYwOTJk9Hr9aSkpEjjR8TGxjJhwgSee+45KioqWLhwISdPnmTVqlUsW7aMM2fOMH36dDo7O/njH//I4MGDSUpK4t577+X48eO88sorTJ48maCgIGlousDAQBISEjh48CDNzc1s27aNqVOn4nA4ePrppxk0aBDDhg1j9erVHDp0iDfffPOCAW0WLVpEdXU1zz//PCkpKQwcOJBVq1axfv16PvvsM+677z5CQ0O57bbbePXVVzl8+DAajYbAwEB+8pOf8Oqrr3LgwAFWr17dY7v+/v689dZbFBUVMXPmTCIiIoiNjWXhwoUcOHCAjRs3kpCQwN69e2lqamL79u0sXbqU+vp6nn/+eYYMGcLw4cNJT0+ntbWVzz//HJPJxPjx4/H29mbatGnU1NT02Kdw/Z0pPsOB/QdcJ1/gUoHQ3aVaDE4eEQ5ms5mXXnqJxx57DIvFwoMPPghAWVkZTU1NVFZWEhgYSHJyMjt27MBoNLJnzx4GDhzIsWPHyMjIwMvLC5PJxLBhwzh58qS07bi4OHx9fVmzZo0UGgUFBTQ2NqLRaDhw4ACJiYnEx8dz7733SkkaERHBvn37aGlp4bHHHqOtra3bEX/HOT5EXV0dKSkpDBo0iHvuuQe1Wo2Pjw9hYWFSgOzbt6/HuvHx8Rw4cACDwcAzzzyDl5cXZWVlnD9/npKSEsxmMykpKZSUlNDc3MypU6doa2ujX79+aDQaVqxYwdixYy8Yhby0tJTm5mbpPXP68ssvmTZtGqtWraKurq7HsSckJLBnzx6MRiN79+6lf//+2Gw2Dhw4QEtLC3v37iUzM5OkpCQKCwulwW0Ez9TbgLgcjwiH7Oxsli1bhtFoZNeuXdJQdK7pVlFRwYABAwCIiIigvr6eo0ePkpuby6lTpzh27Bh5eXk9htKrqamhpKSE5557jrfffpt9+/YRHBxMZGQkGo2GqKgoqqur2bJlC88++yxffPEFx48fp7Ozk/DwcORyOXl5eXh7e6NSqZDJZNLx0XUvQC6XU1lZyddff82zzz7L559/zrFjx+js7CQkJASFQsGgQYOkY6JrGL6wsDBkMhmTJ0/GbDYTFhaGUqlEq9Wi1WopLy8nNDRUuo7UarXU1tZSW1vL888/z7p169i1a1eP7bq+Z06+vr489dRTrF27lkWLFiHrVj+grq6OyMhIZDIZ0dHRFwx209TUREVFBYsWLWLbtm095gmexd3lwdXyiHsO58+fZ8yYMeTk5DB27Fi++OIL6uvr6dOnD4cPH8bf35+wsDA+/vhjcnNzyc7OJikpib/+9a+cP3+ejIwMPvnkE6qrq0lJSeHvf/+7dJI0NDQwfPhwpk6dyogRIzh06BC5ubl8+umn7N+/n3nz5rFp0yaWLFlCVlYWMTEx0qCzK1euZPTo0ZhMJvbu3UtaWhqTJk0iOjqampoajh07xoABA8jKyuL9999n0aJFjB49moEDB7Jz506qqqpYtWoVmZmZOBwOTp48KT3hVlFRwfLly8nKykKn0/HVV1/h6+srbWPr1q0cPHiQmJgY8vLySEtLo6Ojg88//5zIyEhmz57NqFGjOHXqlNTM9/PzIzw8nCNHjhAQEEBISAhVVVUoFAo6OztZvnw5Q4cO5fDhwxw5coQhQ4aQlpbG+++/z7Jlyxg1ahRarZZ3332XwYMHc/ToUWmEL4PBQFJSkhgH8zq51D2H3pJ1fTWpUCguGxK9uecgmzx58jX5TTu6PeNgMpmu6g9IrVZjs9kuOZSbTCZDrVZjNpt7fJ97Kc51LBbLRYNLLpejUql6HLtSqUShUEj3L5zbcf3/KRQKbDbbRbchl8sxm83S8t3Xc14OOZdXqVQ4HI4eY2qq1WqsVmuPY+/Ne+XKq2v0a+exOFsP3Y/d3SWDr68vOTk5tLW1sWXLFtfZwjXw79RzcJ4HarW6xzYupa2tDbvdjlarJSoqym09B48KB8Ez5ebmEhwczPr163uElnDttLW1SZ/4VxIOztaCSqXq1bcUTiIcBOEGYbPZUKm+6zvRm3DoPt/ZAuzNek69CYcLLzQEQfjeKRQKlEolSqUSLy+vy76cyzovfXvbYrgSIhwEwQM4P/Wv9nU9iHAQBMEtEQ6CILglwkEQBLdEOAiC4JYIB0G4ydlsNrcv8ZyDIHgAWdfTt/JuY2BeT87nHJRKJWq12u3+RMtBEG5idrsdo9GIwWC44HVThoNGo7mgvsKlhISEoNFoXCd7jMjISORyOTExMW470AjC1fCIvyRvb29GjRpFamoqqamp16U8nEKhkLp7q9Vq/P39XRe5KH9/f1Qqletkt/r169frZa+V4OBgZDKZ1AVcEK4Fj+iyrVQq0el0HD9+XCqP5uXlRXR0NCEhIVgsFsxmMxqNhpiYGAICAjAYDKhUKvz8/DAajfj7+0s90mJiYtDr9XR0dEg91iIiIoiMjMRms2GxWNDr9fj5+eHv7y8VcgkLC5M+hZ2l1+iq/GQwGJB11TsIDAzEaDRis9mIiIigT58+0BVA/fv3x8vLS7qmk8lk9OnTB71ej7e3NzqdTuoGHRERQUdHB3379sXf35/Q0FCMRmOPnpY+Pj5ER0fj5+dHR0cHDodD2qdMJsNgMBAeHk5tbS19+vShurpa3O+5Acm6yrtd76cenZxdti+1H49oOdDVVTkoKIigoCDUajWDBw+ms7OT6upqEhIS8Pb2ZsiQITQ0NNDW1kZiYiJarZagoCDoKinn6+tLYmIiTU1NdHR0EBYWJm3fYDBgs9mkykn+/v7U1NSgUqno27cv4eHhBAQEcPbsWfr06dOjipJTv379aGxspLm5mcTERPz9/QkJCaGsrIywsDAcDgdWq5X29vYeARkdHY3D4aCtrY2wsDCpk4sziGJjYzGZTLS1tfUoCuPl5UViYiI1NTWYTCYGDRpEZGQkPj4+lJWVER0dfUUtIEG4Eh4TDkqlEl9fX3x9fdFoNKhUKmpqamhvb6epqYnw8HAMBgPNzc3U1dVx5MgR101AV4WlmJgY/Pz8aGxslKZ3dHRgs9lobW2FriIwHR0dNDc3o1KpCAkJQalUEhsbC4BWq5XWdaqsrCQ0NJSgoCBUKhVGoxGlUkn//v1pbGyUAqi1tbVHrQmbzUZ1dbXUYnBltVqpr6+npaUFtVotTffx8aGtrY329naqq6s5deoUISEhqFQqYmJipF51gnA9yFUqFf/uy9lTzPlvZS9KtbsyGAyUlpZSWlpKa2srMplM+oRVq9XSZQRdzffQ0FDo1nXVuc+Ojg6OHz9OU1MT8fHx0vZddT956WpmVVdXU1hYSHFx8QVFVOVyOQkJCZSXl0sVpAEKCws5c+YM4eHhvS7JL+tWoo1LjIxstVql/7OXlxdBQUGYzWYqKyul/X6fYycK14+zN6br+XS9Xr25cS13ffDhal7O5xuc/3b3h34l7HY7lZWVpKamkpSUhEwmo66ujo6ODlJSUhgyZAhqtZr29nYCAgJISEiQvn0ICAggKSmJPn360NLSIm3TYrHgcDjcBobD4aC8vJwBAwYQHx9PYmLiBW+ew+HAaDTSr18/6camQqEgMTGR2NhYvLy8MJvNtLS0EB8f3+Pbje7vR0tLC8nJySQlJV2wD1fOy5OkpCSSk5Px6ipCO2jQIBISEoiLi+txzfjvvu/CD8fR9ZyQ6/l0vV69+VuRZWZmXn6pXnB++tntdqxWK97e3q6LXDGVSoVCoejRHPf29sbhcEil2xQKhdSycHI+1OFa8szZGrlYaTWFQoG3tzdGo/GClgVd62u1Wkwmk7QNuVyORqPpsY5KpXJbFs5Jo9FgtVp7XVVJq9VitVqlbTqP02Aw9OqXLHi+f6dM3NWwWq09Wq/ueHQ4CMLNwhPD4eJzBEG4qYlwEATBLREOgiC4JcJBEAS3RDgIguCWCAdBENwS4SAIglsiHARBcOu6hcPFnkIUBKEnq9V63R96uhrX/AlJR1c9B7PZLA3sKQiCe84nip1dBZxPR17vsOjNE5LXLBxweYT6WnbEEoQfI2fvXOdYl9/Xo9P8kOFAty7RIhgE4eKcQeA8SX+04YBLQIhgEITLc4bB9xUM/FDhgEsoiIAQhIvrHgbfVzDwQ4ZDdyIcBOHivs9A6M4jwkEQBM/Tm3C4+BxBEG5qIhwEQXBLhIMgCG6JcBCEm1BvboTKRowYIW5ICsJNRCaT4egaCu9SISFLT08X4SAINxFnKFw2HDIyMkQ4CMJN5lKh4CSecxAEwS1xQ1IQBLdEOAiC4JYIB0EQ3Pp/swvtm0GMImsAAAAASUVORK5CYII=)\n",
        "\n",
        "![2025-02-21_10-25-46.png](data:image/png;base64,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)"
      ],
      "metadata": {
        "id": "I2uN-wfdH6QL"
      }
    },
    {
      "cell_type": "markdown",
      "source": [
        "**Note: during this lab, you might get a warning that you are connected to GPU runtime but not using. This is OK; we have not gottent the image processing yet!**"
      ],
      "metadata": {
        "id": "WSgFxWu5NIM7"
      }
    },
    {
      "cell_type": "markdown",
      "source": [
        "2. Your runtime should now look like this:"
      ],
      "metadata": {
        "id": "2qD4UNseIE3D"
      }
    },
    {
      "cell_type": "markdown",
      "source": [
        "![2025-02-21_10-29-28.png](data:image/png;base64,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)"
      ],
      "metadata": {
        "id": "PBi9gBn6IIju"
      }
    },
    {
      "cell_type": "markdown",
      "source": [
        "3. Uncomment (remove the # at the beginning) and run the following cell to install the required dependencies. ***This might take a while (~6 mins) so be patient :) and consider reading up on the model with the links in the introduction.***\n",
        "\n",
        "*Note: if you see a warning that says 'This Notebook was not authored by Google,' click Run Anyway*\n"
      ],
      "metadata": {
        "id": "h0yIV4LjIZkV"
      }
    },
    {
      "cell_type": "code",
      "execution_count": 3,
      "metadata": {
        "id": "-yX6nNEaVV5f",
        "collapsed": true,
        "outputId": "894902e1-5101-45d2-b3c1-3ed0bdb46365",
        "colab": {
          "base_uri": "https://localhost:8080/",
          "height": 1000
        }
      },
      "outputs": [
        {
          "output_type": "stream",
          "name": "stdout",
          "text": [
            "Collecting segment-geospatial\n",
            "  Downloading segment_geospatial-0.12.4-py2.py3-none-any.whl.metadata (11 kB)\n",
            "Collecting groundingdino-py\n",
            "  Downloading groundingdino-py-0.4.0.tar.gz (82 kB)\n",
            "\u001b[?25l     \u001b[90m━━━━━━━━━━━━━━━━━━━━━━━━━━━━━━━━━━━━━━━━\u001b[0m \u001b[32m0.0/82.3 kB\u001b[0m \u001b[31m?\u001b[0m eta \u001b[36m-:--:--\u001b[0m\r\u001b[2K     \u001b[90m━━━━━━━━━━━━━━━━━━━━━━━━━━━━━━━━━━━━━━━━\u001b[0m \u001b[32m82.3/82.3 kB\u001b[0m \u001b[31m7.9 MB/s\u001b[0m eta \u001b[36m0:00:00\u001b[0m\n",
            "\u001b[?25h  Preparing metadata (setup.py) ... \u001b[?25l\u001b[?25hdone\n",
            "Collecting leafmap\n",
            "  Downloading leafmap-0.42.12-py2.py3-none-any.whl.metadata (16 kB)\n",
            "Collecting localtileserver\n",
            "  Downloading localtileserver-0.10.6-py3-none-any.whl.metadata (5.2 kB)\n",
            "Collecting fiona (from segment-geospatial)\n",
            "  Downloading fiona-1.10.1-cp311-cp311-manylinux_2_17_x86_64.manylinux2014_x86_64.whl.metadata (56 kB)\n",
            "\u001b[2K     \u001b[90m━━━━━━━━━━━━━━━━━━━━━━━━━━━━━━━━━━━━━━━━\u001b[0m \u001b[32m56.6/56.6 kB\u001b[0m \u001b[31m4.5 MB/s\u001b[0m eta \u001b[36m0:00:00\u001b[0m\n",
            "\u001b[?25hRequirement already satisfied: gdown in /usr/local/lib/python3.11/dist-packages (from segment-geospatial) (5.2.0)\n",
            "Requirement already satisfied: geopandas in /usr/local/lib/python3.11/dist-packages (from segment-geospatial) (1.0.1)\n",
            "Requirement already satisfied: huggingface_hub in /usr/local/lib/python3.11/dist-packages (from segment-geospatial) (0.28.1)\n",
            "Collecting ipympl (from segment-geospatial)\n",
            "  Downloading ipympl-0.9.6-py3-none-any.whl.metadata (8.7 kB)\n",
            "Requirement already satisfied: matplotlib in /usr/local/lib/python3.11/dist-packages (from segment-geospatial) (3.10.0)\n",
            "Requirement already satisfied: opencv-python-headless in /usr/local/lib/python3.11/dist-packages (from segment-geospatial) (4.11.0.86)\n",
            "Collecting patool (from segment-geospatial)\n",
            "  Downloading patool-4.0.0-py2.py3-none-any.whl.metadata (4.5 kB)\n",
            "Requirement already satisfied: pycocotools in /usr/local/lib/python3.11/dist-packages (from segment-geospatial) (2.0.8)\n",
            "Requirement already satisfied: pyproj in /usr/local/lib/python3.11/dist-packages (from segment-geospatial) (3.7.1)\n",
            "Collecting rasterio (from segment-geospatial)\n",
            "  Downloading rasterio-1.4.3-cp311-cp311-manylinux_2_17_x86_64.manylinux2014_x86_64.whl.metadata (9.1 kB)\n",
            "Collecting rioxarray (from segment-geospatial)\n",
            "  Downloading rioxarray-0.18.2-py3-none-any.whl.metadata (5.4 kB)\n",
            "Collecting sam2 (from segment-geospatial)\n",
            "  Downloading sam2-1.1.0.tar.gz (152 kB)\n",
            "\u001b[2K     \u001b[90m━━━━━━━━━━━━━━━━━━━━━━━━━━━━━━━━━━━━━━━━\u001b[0m \u001b[32m152.8/152.8 kB\u001b[0m \u001b[31m14.9 MB/s\u001b[0m eta \u001b[36m0:00:00\u001b[0m\n",
            "\u001b[?25h  Installing build dependencies ... \u001b[?25l\u001b[?25hdone\n",
            "  Getting requirements to build wheel ... \u001b[?25l\u001b[?25hdone\n",
            "  Preparing metadata (pyproject.toml) ... \u001b[?25l\u001b[?25hdone\n",
            "Requirement already satisfied: scikit-image in /usr/local/lib/python3.11/dist-packages (from segment-geospatial) (0.25.2)\n",
            "Requirement already satisfied: scikit-learn in /usr/local/lib/python3.11/dist-packages (from segment-geospatial) (1.6.1)\n",
            "Collecting segment-anything-hq (from segment-geospatial)\n",
            "  Downloading segment_anything_hq-0.3-py3-none-any.whl.metadata (17 kB)\n",
            "Collecting segment-anything-py (from segment-geospatial)\n",
            "  Downloading segment_anything_py-1.0.1-py3-none-any.whl.metadata (11 kB)\n",
            "Requirement already satisfied: timm in /usr/local/lib/python3.11/dist-packages (from segment-geospatial) (1.0.15)\n",
            "Requirement already satisfied: tqdm in /usr/local/lib/python3.11/dist-packages (from segment-geospatial) (4.67.1)\n",
            "Requirement already satisfied: xarray in /usr/local/lib/python3.11/dist-packages (from segment-geospatial) (2025.1.2)\n",
            "Requirement already satisfied: xyzservices in /usr/local/lib/python3.11/dist-packages (from segment-geospatial) (2025.1.0)\n",
            "Requirement already satisfied: torch in /usr/local/lib/python3.11/dist-packages (from groundingdino-py) (2.5.1+cu124)\n",
            "Requirement already satisfied: torchvision in /usr/local/lib/python3.11/dist-packages (from groundingdino-py) (0.20.1+cu124)\n",
            "Requirement already satisfied: transformers in /usr/local/lib/python3.11/dist-packages (from groundingdino-py) (4.48.3)\n",
            "Collecting addict (from groundingdino-py)\n",
            "  Downloading addict-2.4.0-py3-none-any.whl.metadata (1.0 kB)\n",
            "Collecting yapf (from groundingdino-py)\n",
            "  Downloading yapf-0.43.0-py3-none-any.whl.metadata (46 kB)\n",
            "\u001b[2K     \u001b[90m━━━━━━━━━━━━━━━━━━━━━━━━━━━━━━━━━━━━━━━━\u001b[0m \u001b[32m46.8/46.8 kB\u001b[0m \u001b[31m4.6 MB/s\u001b[0m eta \u001b[36m0:00:00\u001b[0m\n",
            "\u001b[?25hRequirement already satisfied: numpy in /usr/local/lib/python3.11/dist-packages (from groundingdino-py) (1.26.4)\n",
            "Requirement already satisfied: opencv-python in /usr/local/lib/python3.11/dist-packages (from groundingdino-py) (4.11.0.86)\n",
            "Collecting supervision==0.6.0 (from groundingdino-py)\n",
            "  Downloading supervision-0.6.0-py3-none-any.whl.metadata (6.2 kB)\n",
            "Collecting anywidget (from leafmap)\n",
            "  Downloading anywidget-0.9.15-py3-none-any.whl.metadata (8.9 kB)\n",
            "Requirement already satisfied: bqplot in /usr/local/lib/python3.11/dist-packages (from leafmap) (0.12.44)\n",
            "Requirement already satisfied: colour in /usr/local/lib/python3.11/dist-packages (from leafmap) (0.1.5)\n",
            "Requirement already satisfied: duckdb in /usr/local/lib/python3.11/dist-packages (from leafmap) (1.1.3)\n",
            "Requirement already satisfied: folium in /usr/local/lib/python3.11/dist-packages (from leafmap) (0.19.4)\n",
            "Collecting geojson (from leafmap)\n",
            "  Downloading geojson-3.2.0-py3-none-any.whl.metadata (16 kB)\n",
            "Requirement already satisfied: ipyevents in /usr/local/lib/python3.11/dist-packages (from leafmap) (2.0.2)\n",
            "Requirement already satisfied: ipyfilechooser in /usr/local/lib/python3.11/dist-packages (from leafmap) (0.6.0)\n",
            "Requirement already satisfied: ipyleaflet in /usr/local/lib/python3.11/dist-packages (from leafmap) (0.19.2)\n",
            "Collecting ipyvuetify (from leafmap)\n",
            "  Downloading ipyvuetify-1.11.1-py2.py3-none-any.whl.metadata (7.5 kB)\n",
            "Requirement already satisfied: ipywidgets in /usr/local/lib/python3.11/dist-packages (from leafmap) (7.7.1)\n",
            "Requirement already satisfied: pandas in /usr/local/lib/python3.11/dist-packages (from leafmap) (2.2.2)\n",
            "Requirement already satisfied: plotly in /usr/local/lib/python3.11/dist-packages (from leafmap) (5.24.1)\n",
            "Requirement already satisfied: psutil in /usr/local/lib/python3.11/dist-packages (from leafmap) (5.9.5)\n",
            "Requirement already satisfied: pyshp in /usr/local/lib/python3.11/dist-packages (from leafmap) (2.3.1)\n",
            "Collecting pystac-client (from leafmap)\n",
            "  Downloading pystac_client-0.8.6-py3-none-any.whl.metadata (3.0 kB)\n",
            "Requirement already satisfied: python-box in /usr/local/lib/python3.11/dist-packages (from leafmap) (7.3.2)\n",
            "Requirement already satisfied: scooby in /usr/local/lib/python3.11/dist-packages (from leafmap) (0.10.0)\n",
            "Collecting whiteboxgui (from leafmap)\n",
            "  Downloading whiteboxgui-2.3.0-py2.py3-none-any.whl.metadata (5.7 kB)\n",
            "Requirement already satisfied: click in /usr/local/lib/python3.11/dist-packages (from localtileserver) (8.1.8)\n",
            "Requirement already satisfied: flask<4,>=2.0.0 in /usr/local/lib/python3.11/dist-packages (from localtileserver) (3.1.0)\n",
            "Collecting Flask-Caching (from localtileserver)\n",
            "  Downloading Flask_Caching-2.3.1-py3-none-any.whl.metadata (2.2 kB)\n",
            "Collecting flask-cors (from localtileserver)\n",
            "  Downloading flask_cors-5.0.1-py3-none-any.whl.metadata (961 bytes)\n",
            "Collecting flask-restx>=1.3.0 (from localtileserver)\n",
            "  Downloading flask_restx-1.3.0-py2.py3-none-any.whl.metadata (9.3 kB)\n",
            "Collecting rio-tiler (from localtileserver)\n",
            "  Downloading rio_tiler-7.5.0-py3-none-any.whl.metadata (12 kB)\n",
            "Collecting rio-cogeo (from localtileserver)\n",
            "  Downloading rio_cogeo-5.4.1-py3-none-any.whl.metadata (4.7 kB)\n",
            "Requirement already satisfied: requests in /usr/local/lib/python3.11/dist-packages (from localtileserver) (2.32.3)\n",
            "Collecting server-thread (from localtileserver)\n",
            "  Downloading server_thread-0.3.0-py3-none-any.whl.metadata (5.3 kB)\n",
            "Requirement already satisfied: werkzeug in /usr/local/lib/python3.11/dist-packages (from localtileserver) (3.1.3)\n",
            "Requirement already satisfied: Jinja2>=3.1.2 in /usr/local/lib/python3.11/dist-packages (from flask<4,>=2.0.0->localtileserver) (3.1.5)\n",
            "Requirement already satisfied: itsdangerous>=2.2 in /usr/local/lib/python3.11/dist-packages (from flask<4,>=2.0.0->localtileserver) (2.2.0)\n",
            "Requirement already satisfied: blinker>=1.9 in /usr/local/lib/python3.11/dist-packages (from flask<4,>=2.0.0->localtileserver) (1.9.0)\n",
            "Collecting aniso8601>=0.82 (from flask-restx>=1.3.0->localtileserver)\n",
            "  Downloading aniso8601-10.0.0-py2.py3-none-any.whl.metadata (23 kB)\n",
            "Requirement already satisfied: jsonschema in /usr/local/lib/python3.11/dist-packages (from flask-restx>=1.3.0->localtileserver) (4.23.0)\n",
            "Requirement already satisfied: pytz in /usr/local/lib/python3.11/dist-packages (from flask-restx>=1.3.0->localtileserver) (2025.1)\n",
            "Requirement already satisfied: importlib-resources in /usr/local/lib/python3.11/dist-packages (from flask-restx>=1.3.0->localtileserver) (6.5.2)\n",
            "Requirement already satisfied: MarkupSafe>=2.1.1 in /usr/local/lib/python3.11/dist-packages (from werkzeug->localtileserver) (3.0.2)\n",
            "Collecting psygnal>=0.8.1 (from anywidget->leafmap)\n",
            "  Downloading psygnal-0.12.0-cp311-cp311-manylinux_2_17_x86_64.manylinux2014_x86_64.whl.metadata (7.7 kB)\n",
            "Requirement already satisfied: typing-extensions>=4.2.0 in /usr/local/lib/python3.11/dist-packages (from anywidget->leafmap) (4.12.2)\n",
            "Requirement already satisfied: ipykernel>=4.5.1 in /usr/local/lib/python3.11/dist-packages (from ipywidgets->leafmap) (6.17.1)\n",
            "Requirement already satisfied: ipython-genutils~=0.2.0 in /usr/local/lib/python3.11/dist-packages (from ipywidgets->leafmap) (0.2.0)\n",
            "Requirement already satisfied: traitlets>=4.3.1 in /usr/local/lib/python3.11/dist-packages (from ipywidgets->leafmap) (5.7.1)\n",
            "Requirement already satisfied: widgetsnbextension~=3.6.0 in /usr/local/lib/python3.11/dist-packages (from ipywidgets->leafmap) (3.6.10)\n",
            "Requirement already satisfied: ipython>=4.0.0 in /usr/local/lib/python3.11/dist-packages (from ipywidgets->leafmap) (7.34.0)\n",
            "Requirement already satisfied: jupyterlab-widgets>=1.0.0 in /usr/local/lib/python3.11/dist-packages (from ipywidgets->leafmap) (3.0.13)\n",
            "Requirement already satisfied: traittypes>=0.0.6 in /usr/local/lib/python3.11/dist-packages (from bqplot->leafmap) (0.2.1)\n",
            "Requirement already satisfied: python-dateutil>=2.8.2 in /usr/local/lib/python3.11/dist-packages (from pandas->leafmap) (2.8.2)\n",
            "Requirement already satisfied: tzdata>=2022.7 in /usr/local/lib/python3.11/dist-packages (from pandas->leafmap) (2025.1)\n",
            "Requirement already satisfied: attrs>=19.2.0 in /usr/local/lib/python3.11/dist-packages (from fiona->segment-geospatial) (25.1.0)\n",
            "Requirement already satisfied: certifi in /usr/local/lib/python3.11/dist-packages (from fiona->segment-geospatial) (2025.1.31)\n",
            "Collecting click-plugins>=1.0 (from fiona->segment-geospatial)\n",
            "  Downloading click_plugins-1.1.1-py2.py3-none-any.whl.metadata (6.4 kB)\n",
            "Collecting cligj>=0.5 (from fiona->segment-geospatial)\n",
            "  Downloading cligj-0.7.2-py3-none-any.whl.metadata (5.0 kB)\n",
            "Collecting cachelib>=0.9.0 (from Flask-Caching->localtileserver)\n",
            "  Downloading cachelib-0.13.0-py3-none-any.whl.metadata (2.0 kB)\n",
            "Requirement already satisfied: branca>=0.6.0 in /usr/local/lib/python3.11/dist-packages (from folium->leafmap) (0.8.1)\n",
            "Requirement already satisfied: beautifulsoup4 in /usr/local/lib/python3.11/dist-packages (from gdown->segment-geospatial) (4.13.3)\n",
            "Requirement already satisfied: filelock in /usr/local/lib/python3.11/dist-packages (from gdown->segment-geospatial) (3.17.0)\n",
            "Requirement already satisfied: pyogrio>=0.7.2 in /usr/local/lib/python3.11/dist-packages (from geopandas->segment-geospatial) (0.10.0)\n",
            "Requirement already satisfied: packaging in /usr/local/lib/python3.11/dist-packages (from geopandas->segment-geospatial) (24.2)\n",
            "Requirement already satisfied: shapely>=2.0.0 in /usr/local/lib/python3.11/dist-packages (from geopandas->segment-geospatial) (2.0.7)\n",
            "Requirement already satisfied: fsspec>=2023.5.0 in /usr/local/lib/python3.11/dist-packages (from huggingface_hub->segment-geospatial) (2024.10.0)\n",
            "Requirement already satisfied: pyyaml>=5.1 in /usr/local/lib/python3.11/dist-packages (from huggingface_hub->segment-geospatial) (6.0.2)\n",
            "Requirement already satisfied: jupyter-leaflet<0.20,>=0.19 in /usr/local/lib/python3.11/dist-packages (from ipyleaflet->leafmap) (0.19.2)\n",
            "Requirement already satisfied: pillow in /usr/local/lib/python3.11/dist-packages (from ipympl->segment-geospatial) (11.1.0)\n",
            "Requirement already satisfied: contourpy>=1.0.1 in /usr/local/lib/python3.11/dist-packages (from matplotlib->segment-geospatial) (1.3.1)\n",
            "Requirement already satisfied: cycler>=0.10 in /usr/local/lib/python3.11/dist-packages (from matplotlib->segment-geospatial) (0.12.1)\n",
            "Requirement already satisfied: fonttools>=4.22.0 in /usr/local/lib/python3.11/dist-packages (from matplotlib->segment-geospatial) (4.56.0)\n",
            "Requirement already satisfied: kiwisolver>=1.3.1 in /usr/local/lib/python3.11/dist-packages (from matplotlib->segment-geospatial) (1.4.8)\n",
            "Requirement already satisfied: pyparsing>=2.3.1 in /usr/local/lib/python3.11/dist-packages (from matplotlib->segment-geospatial) (3.2.1)\n",
            "Collecting ipyvue<2,>=1.7 (from ipyvuetify->leafmap)\n",
            "  Downloading ipyvue-1.11.2-py2.py3-none-any.whl.metadata (1.1 kB)\n",
            "Requirement already satisfied: tenacity>=6.2.0 in /usr/local/lib/python3.11/dist-packages (from plotly->leafmap) (9.0.0)\n",
            "Collecting pystac>=1.10.0 (from pystac[validation]>=1.10.0->pystac-client->leafmap)\n",
            "  Downloading pystac-1.12.2-py3-none-any.whl.metadata (4.6 kB)\n",
            "Requirement already satisfied: charset-normalizer<4,>=2 in /usr/local/lib/python3.11/dist-packages (from requests->localtileserver) (3.4.1)\n",
            "Requirement already satisfied: idna<4,>=2.5 in /usr/local/lib/python3.11/dist-packages (from requests->localtileserver) (3.10)\n",
            "Requirement already satisfied: urllib3<3,>=1.21.1 in /usr/local/lib/python3.11/dist-packages (from requests->localtileserver) (2.3.0)\n",
            "Collecting affine (from rasterio->segment-geospatial)\n",
            "  Downloading affine-2.4.0-py3-none-any.whl.metadata (4.0 kB)\n",
            "Collecting morecantile<7.0,>=5.0 (from rio-cogeo->localtileserver)\n",
            "  Downloading morecantile-6.2.0-py3-none-any.whl.metadata (7.3 kB)\n",
            "Requirement already satisfied: pydantic~=2.0 in /usr/local/lib/python3.11/dist-packages (from rio-cogeo->localtileserver) (2.10.6)\n",
            "Requirement already satisfied: cachetools in /usr/local/lib/python3.11/dist-packages (from rio-tiler->localtileserver) (5.5.2)\n",
            "Collecting color-operations (from rio-tiler->localtileserver)\n",
            "  Downloading color_operations-0.1.6-cp311-cp311-manylinux_2_5_x86_64.manylinux1_x86_64.manylinux_2_17_x86_64.manylinux2014_x86_64.whl.metadata (6.0 kB)\n",
            "Requirement already satisfied: httpx in /usr/local/lib/python3.11/dist-packages (from rio-tiler->localtileserver) (0.28.1)\n",
            "Requirement already satisfied: numexpr in /usr/local/lib/python3.11/dist-packages (from rio-tiler->localtileserver) (2.10.2)\n",
            "Collecting hydra-core>=1.3.2 (from sam2->segment-geospatial)\n",
            "  Downloading hydra_core-1.3.2-py3-none-any.whl.metadata (5.5 kB)\n",
            "Collecting iopath>=0.1.10 (from sam2->segment-geospatial)\n",
            "  Downloading iopath-0.1.10.tar.gz (42 kB)\n",
            "\u001b[2K     \u001b[90m━━━━━━━━━━━━━━━━━━━━━━━━━━━━━━━━━━━━━━━━\u001b[0m \u001b[32m42.2/42.2 kB\u001b[0m \u001b[31m4.0 MB/s\u001b[0m eta \u001b[36m0:00:00\u001b[0m\n",
            "\u001b[?25h  Preparing metadata (setup.py) ... \u001b[?25l\u001b[?25hdone\n",
            "Requirement already satisfied: networkx in /usr/local/lib/python3.11/dist-packages (from torch->groundingdino-py) (3.4.2)\n",
            "Collecting nvidia-cuda-nvrtc-cu12==12.4.127 (from torch->groundingdino-py)\n",
            "  Using cached nvidia_cuda_nvrtc_cu12-12.4.127-py3-none-manylinux2014_x86_64.whl.metadata (1.5 kB)\n",
            "Collecting nvidia-cuda-runtime-cu12==12.4.127 (from torch->groundingdino-py)\n",
            "  Using cached nvidia_cuda_runtime_cu12-12.4.127-py3-none-manylinux2014_x86_64.whl.metadata (1.5 kB)\n",
            "Collecting nvidia-cuda-cupti-cu12==12.4.127 (from torch->groundingdino-py)\n",
            "  Using cached nvidia_cuda_cupti_cu12-12.4.127-py3-none-manylinux2014_x86_64.whl.metadata (1.6 kB)\n",
            "Collecting nvidia-cudnn-cu12==9.1.0.70 (from torch->groundingdino-py)\n",
            "  Using cached nvidia_cudnn_cu12-9.1.0.70-py3-none-manylinux2014_x86_64.whl.metadata (1.6 kB)\n",
            "Collecting nvidia-cublas-cu12==12.4.5.8 (from torch->groundingdino-py)\n",
            "  Using cached nvidia_cublas_cu12-12.4.5.8-py3-none-manylinux2014_x86_64.whl.metadata (1.5 kB)\n",
            "Collecting nvidia-cufft-cu12==11.2.1.3 (from torch->groundingdino-py)\n",
            "  Using cached nvidia_cufft_cu12-11.2.1.3-py3-none-manylinux2014_x86_64.whl.metadata (1.5 kB)\n",
            "Collecting nvidia-curand-cu12==10.3.5.147 (from torch->groundingdino-py)\n",
            "  Using cached nvidia_curand_cu12-10.3.5.147-py3-none-manylinux2014_x86_64.whl.metadata (1.5 kB)\n",
            "Collecting nvidia-cusolver-cu12==11.6.1.9 (from torch->groundingdino-py)\n",
            "  Using cached nvidia_cusolver_cu12-11.6.1.9-py3-none-manylinux2014_x86_64.whl.metadata (1.6 kB)\n",
            "Collecting nvidia-cusparse-cu12==12.3.1.170 (from torch->groundingdino-py)\n",
            "  Using cached nvidia_cusparse_cu12-12.3.1.170-py3-none-manylinux2014_x86_64.whl.metadata (1.6 kB)\n",
            "Requirement already satisfied: nvidia-nccl-cu12==2.21.5 in /usr/local/lib/python3.11/dist-packages (from torch->groundingdino-py) (2.21.5)\n",
            "Requirement already satisfied: nvidia-nvtx-cu12==12.4.127 in /usr/local/lib/python3.11/dist-packages (from torch->groundingdino-py) (12.4.127)\n",
            "Collecting nvidia-nvjitlink-cu12==12.4.127 (from torch->groundingdino-py)\n",
            "  Using cached nvidia_nvjitlink_cu12-12.4.127-py3-none-manylinux2014_x86_64.whl.metadata (1.5 kB)\n",
            "Requirement already satisfied: triton==3.1.0 in /usr/local/lib/python3.11/dist-packages (from torch->groundingdino-py) (3.1.0)\n",
            "Requirement already satisfied: sympy==1.13.1 in /usr/local/lib/python3.11/dist-packages (from torch->groundingdino-py) (1.13.1)\n",
            "Requirement already satisfied: mpmath<1.4,>=1.1.0 in /usr/local/lib/python3.11/dist-packages (from sympy==1.13.1->torch->groundingdino-py) (1.3.0)\n",
            "Requirement already satisfied: scipy>=1.11.4 in /usr/local/lib/python3.11/dist-packages (from scikit-image->segment-geospatial) (1.13.1)\n",
            "Requirement already satisfied: imageio!=2.35.0,>=2.33 in /usr/local/lib/python3.11/dist-packages (from scikit-image->segment-geospatial) (2.37.0)\n",
            "Requirement already satisfied: tifffile>=2022.8.12 in /usr/local/lib/python3.11/dist-packages (from scikit-image->segment-geospatial) (2025.2.18)\n",
            "Requirement already satisfied: lazy-loader>=0.4 in /usr/local/lib/python3.11/dist-packages (from scikit-image->segment-geospatial) (0.4)\n",
            "Requirement already satisfied: joblib>=1.2.0 in /usr/local/lib/python3.11/dist-packages (from scikit-learn->segment-geospatial) (1.4.2)\n",
            "Requirement already satisfied: threadpoolctl>=3.1.0 in /usr/local/lib/python3.11/dist-packages (from scikit-learn->segment-geospatial) (3.5.0)\n",
            "Collecting uvicorn (from server-thread->localtileserver)\n",
            "  Downloading uvicorn-0.34.0-py3-none-any.whl.metadata (6.5 kB)\n",
            "Requirement already satisfied: safetensors in /usr/local/lib/python3.11/dist-packages (from timm->segment-geospatial) (0.5.3)\n",
            "Requirement already satisfied: regex!=2019.12.17 in /usr/local/lib/python3.11/dist-packages (from transformers->groundingdino-py) (2024.11.6)\n",
            "Requirement already satisfied: tokenizers<0.22,>=0.21 in /usr/local/lib/python3.11/dist-packages (from transformers->groundingdino-py) (0.21.0)\n",
            "Requirement already satisfied: ipytree in /usr/local/lib/python3.11/dist-packages (from whiteboxgui->leafmap) (0.2.2)\n",
            "Collecting whitebox (from whiteboxgui->leafmap)\n",
            "  Downloading whitebox-2.3.6-py2.py3-none-any.whl.metadata (11 kB)\n",
            "Requirement already satisfied: platformdirs>=3.5.1 in /usr/local/lib/python3.11/dist-packages (from yapf->groundingdino-py) (4.3.6)\n",
            "Collecting omegaconf<2.4,>=2.2 (from hydra-core>=1.3.2->sam2->segment-geospatial)\n",
            "  Downloading omegaconf-2.3.0-py3-none-any.whl.metadata (3.9 kB)\n",
            "Collecting antlr4-python3-runtime==4.9.* (from hydra-core>=1.3.2->sam2->segment-geospatial)\n",
            "  Downloading antlr4-python3-runtime-4.9.3.tar.gz (117 kB)\n",
            "\u001b[2K     \u001b[90m━━━━━━━━━━━━━━━━━━━━━━━━━━━━━━━━━━━━━━━━\u001b[0m \u001b[32m117.0/117.0 kB\u001b[0m \u001b[31m13.2 MB/s\u001b[0m eta \u001b[36m0:00:00\u001b[0m\n",
            "\u001b[?25h  Preparing metadata (setup.py) ... \u001b[?25l\u001b[?25hdone\n",
            "Collecting portalocker (from iopath>=0.1.10->sam2->segment-geospatial)\n",
            "  Downloading portalocker-3.1.1-py3-none-any.whl.metadata (8.6 kB)\n",
            "Requirement already satisfied: debugpy>=1.0 in /usr/local/lib/python3.11/dist-packages (from ipykernel>=4.5.1->ipywidgets->leafmap) (1.8.0)\n",
            "Requirement already satisfied: jupyter-client>=6.1.12 in /usr/local/lib/python3.11/dist-packages (from ipykernel>=4.5.1->ipywidgets->leafmap) (6.1.12)\n",
            "Requirement already satisfied: matplotlib-inline>=0.1 in /usr/local/lib/python3.11/dist-packages (from ipykernel>=4.5.1->ipywidgets->leafmap) (0.1.7)\n",
            "Requirement already satisfied: nest-asyncio in /usr/local/lib/python3.11/dist-packages (from ipykernel>=4.5.1->ipywidgets->leafmap) (1.6.0)\n",
            "Requirement already satisfied: pyzmq>=17 in /usr/local/lib/python3.11/dist-packages (from ipykernel>=4.5.1->ipywidgets->leafmap) (24.0.1)\n",
            "Requirement already satisfied: tornado>=6.1 in /usr/local/lib/python3.11/dist-packages (from ipykernel>=4.5.1->ipywidgets->leafmap) (6.4.2)\n",
            "Requirement already satisfied: setuptools>=18.5 in /usr/local/lib/python3.11/dist-packages (from ipython>=4.0.0->ipywidgets->leafmap) (75.1.0)\n",
            "Collecting jedi>=0.16 (from ipython>=4.0.0->ipywidgets->leafmap)\n",
            "  Downloading jedi-0.19.2-py2.py3-none-any.whl.metadata (22 kB)\n",
            "Requirement already satisfied: decorator in /usr/local/lib/python3.11/dist-packages (from ipython>=4.0.0->ipywidgets->leafmap) (4.4.2)\n",
            "Requirement already satisfied: pickleshare in /usr/local/lib/python3.11/dist-packages (from ipython>=4.0.0->ipywidgets->leafmap) (0.7.5)\n",
            "Requirement already satisfied: prompt-toolkit!=3.0.0,!=3.0.1,<3.1.0,>=2.0.0 in /usr/local/lib/python3.11/dist-packages (from ipython>=4.0.0->ipywidgets->leafmap) (3.0.50)\n",
            "Requirement already satisfied: pygments in /usr/local/lib/python3.11/dist-packages (from ipython>=4.0.0->ipywidgets->leafmap) (2.18.0)\n",
            "Requirement already satisfied: backcall in /usr/local/lib/python3.11/dist-packages (from ipython>=4.0.0->ipywidgets->leafmap) (0.2.0)\n",
            "Requirement already satisfied: pexpect>4.3 in /usr/local/lib/python3.11/dist-packages (from ipython>=4.0.0->ipywidgets->leafmap) (4.9.0)\n",
            "Requirement already satisfied: annotated-types>=0.6.0 in /usr/local/lib/python3.11/dist-packages (from pydantic~=2.0->rio-cogeo->localtileserver) (0.7.0)\n",
            "Requirement already satisfied: pydantic-core==2.27.2 in /usr/local/lib/python3.11/dist-packages (from pydantic~=2.0->rio-cogeo->localtileserver) (2.27.2)\n",
            "Requirement already satisfied: jsonschema-specifications>=2023.03.6 in /usr/local/lib/python3.11/dist-packages (from jsonschema->flask-restx>=1.3.0->localtileserver) (2024.10.1)\n",
            "Requirement already satisfied: referencing>=0.28.4 in /usr/local/lib/python3.11/dist-packages (from jsonschema->flask-restx>=1.3.0->localtileserver) (0.36.2)\n",
            "Requirement already satisfied: rpds-py>=0.7.1 in /usr/local/lib/python3.11/dist-packages (from jsonschema->flask-restx>=1.3.0->localtileserver) (0.23.1)\n",
            "Requirement already satisfied: six>=1.5 in /usr/local/lib/python3.11/dist-packages (from python-dateutil>=2.8.2->pandas->leafmap) (1.17.0)\n",
            "Requirement already satisfied: notebook>=4.4.1 in /usr/local/lib/python3.11/dist-packages (from widgetsnbextension~=3.6.0->ipywidgets->leafmap) (6.5.5)\n",
            "Requirement already satisfied: soupsieve>1.2 in /usr/local/lib/python3.11/dist-packages (from beautifulsoup4->gdown->segment-geospatial) (2.6)\n",
            "Requirement already satisfied: anyio in /usr/local/lib/python3.11/dist-packages (from httpx->rio-tiler->localtileserver) (3.7.1)\n",
            "Requirement already satisfied: httpcore==1.* in /usr/local/lib/python3.11/dist-packages (from httpx->rio-tiler->localtileserver) (1.0.7)\n",
            "Requirement already satisfied: h11<0.15,>=0.13 in /usr/local/lib/python3.11/dist-packages (from httpcore==1.*->httpx->rio-tiler->localtileserver) (0.14.0)\n",
            "Requirement already satisfied: PySocks!=1.5.7,>=1.5.6 in /usr/local/lib/python3.11/dist-packages (from requests[socks]->gdown->segment-geospatial) (1.7.1)\n",
            "Requirement already satisfied: parso<0.9.0,>=0.8.4 in /usr/local/lib/python3.11/dist-packages (from jedi>=0.16->ipython>=4.0.0->ipywidgets->leafmap) (0.8.4)\n",
            "Requirement already satisfied: jupyter-core>=4.6.0 in /usr/local/lib/python3.11/dist-packages (from jupyter-client>=6.1.12->ipykernel>=4.5.1->ipywidgets->leafmap) (5.7.2)\n",
            "Requirement already satisfied: argon2-cffi in /usr/local/lib/python3.11/dist-packages (from notebook>=4.4.1->widgetsnbextension~=3.6.0->ipywidgets->leafmap) (23.1.0)\n",
            "Requirement already satisfied: nbformat in /usr/local/lib/python3.11/dist-packages (from notebook>=4.4.1->widgetsnbextension~=3.6.0->ipywidgets->leafmap) (5.10.4)\n",
            "Requirement already satisfied: nbconvert>=5 in /usr/local/lib/python3.11/dist-packages (from notebook>=4.4.1->widgetsnbextension~=3.6.0->ipywidgets->leafmap) (7.16.6)\n",
            "Requirement already satisfied: Send2Trash>=1.8.0 in /usr/local/lib/python3.11/dist-packages (from notebook>=4.4.1->widgetsnbextension~=3.6.0->ipywidgets->leafmap) (1.8.3)\n",
            "Requirement already satisfied: terminado>=0.8.3 in /usr/local/lib/python3.11/dist-packages (from notebook>=4.4.1->widgetsnbextension~=3.6.0->ipywidgets->leafmap) (0.18.1)\n",
            "Requirement already satisfied: prometheus-client in /usr/local/lib/python3.11/dist-packages (from notebook>=4.4.1->widgetsnbextension~=3.6.0->ipywidgets->leafmap) (0.21.1)\n",
            "Requirement already satisfied: nbclassic>=0.4.7 in /usr/local/lib/python3.11/dist-packages (from notebook>=4.4.1->widgetsnbextension~=3.6.0->ipywidgets->leafmap) (1.2.0)\n",
            "Requirement already satisfied: ptyprocess>=0.5 in /usr/local/lib/python3.11/dist-packages (from pexpect>4.3->ipython>=4.0.0->ipywidgets->leafmap) (0.7.0)\n",
            "Requirement already satisfied: wcwidth in /usr/local/lib/python3.11/dist-packages (from prompt-toolkit!=3.0.0,!=3.0.1,<3.1.0,>=2.0.0->ipython>=4.0.0->ipywidgets->leafmap) (0.2.13)\n",
            "Requirement already satisfied: sniffio>=1.1 in /usr/local/lib/python3.11/dist-packages (from anyio->httpx->rio-tiler->localtileserver) (1.3.1)\n",
            "Requirement already satisfied: notebook-shim>=0.2.3 in /usr/local/lib/python3.11/dist-packages (from nbclassic>=0.4.7->notebook>=4.4.1->widgetsnbextension~=3.6.0->ipywidgets->leafmap) (0.2.4)\n",
            "Requirement already satisfied: bleach!=5.0.0 in /usr/local/lib/python3.11/dist-packages (from bleach[css]!=5.0.0->nbconvert>=5->notebook>=4.4.1->widgetsnbextension~=3.6.0->ipywidgets->leafmap) (6.2.0)\n",
            "Requirement already satisfied: defusedxml in /usr/local/lib/python3.11/dist-packages (from nbconvert>=5->notebook>=4.4.1->widgetsnbextension~=3.6.0->ipywidgets->leafmap) (0.7.1)\n",
            "Requirement already satisfied: jupyterlab-pygments in /usr/local/lib/python3.11/dist-packages (from nbconvert>=5->notebook>=4.4.1->widgetsnbextension~=3.6.0->ipywidgets->leafmap) (0.3.0)\n",
            "Requirement already satisfied: mistune<4,>=2.0.3 in /usr/local/lib/python3.11/dist-packages (from nbconvert>=5->notebook>=4.4.1->widgetsnbextension~=3.6.0->ipywidgets->leafmap) (3.1.2)\n",
            "Requirement already satisfied: nbclient>=0.5.0 in /usr/local/lib/python3.11/dist-packages (from nbconvert>=5->notebook>=4.4.1->widgetsnbextension~=3.6.0->ipywidgets->leafmap) (0.10.2)\n",
            "Requirement already satisfied: pandocfilters>=1.4.1 in /usr/local/lib/python3.11/dist-packages (from nbconvert>=5->notebook>=4.4.1->widgetsnbextension~=3.6.0->ipywidgets->leafmap) (1.5.1)\n",
            "Requirement already satisfied: fastjsonschema>=2.15 in /usr/local/lib/python3.11/dist-packages (from nbformat->notebook>=4.4.1->widgetsnbextension~=3.6.0->ipywidgets->leafmap) (2.21.1)\n",
            "Requirement already satisfied: argon2-cffi-bindings in /usr/local/lib/python3.11/dist-packages (from argon2-cffi->notebook>=4.4.1->widgetsnbextension~=3.6.0->ipywidgets->leafmap) (21.2.0)\n",
            "Requirement already satisfied: webencodings in /usr/local/lib/python3.11/dist-packages (from bleach!=5.0.0->bleach[css]!=5.0.0->nbconvert>=5->notebook>=4.4.1->widgetsnbextension~=3.6.0->ipywidgets->leafmap) (0.5.1)\n",
            "Requirement already satisfied: tinycss2<1.5,>=1.1.0 in /usr/local/lib/python3.11/dist-packages (from bleach[css]!=5.0.0->nbconvert>=5->notebook>=4.4.1->widgetsnbextension~=3.6.0->ipywidgets->leafmap) (1.4.0)\n",
            "Requirement already satisfied: jupyter-server<3,>=1.8 in /usr/local/lib/python3.11/dist-packages (from notebook-shim>=0.2.3->nbclassic>=0.4.7->notebook>=4.4.1->widgetsnbextension~=3.6.0->ipywidgets->leafmap) (1.24.0)\n",
            "Requirement already satisfied: cffi>=1.0.1 in /usr/local/lib/python3.11/dist-packages (from argon2-cffi-bindings->argon2-cffi->notebook>=4.4.1->widgetsnbextension~=3.6.0->ipywidgets->leafmap) (1.17.1)\n",
            "Requirement already satisfied: pycparser in /usr/local/lib/python3.11/dist-packages (from cffi>=1.0.1->argon2-cffi-bindings->argon2-cffi->notebook>=4.4.1->widgetsnbextension~=3.6.0->ipywidgets->leafmap) (2.22)\n",
            "Requirement already satisfied: websocket-client in /usr/local/lib/python3.11/dist-packages (from jupyter-server<3,>=1.8->notebook-shim>=0.2.3->nbclassic>=0.4.7->notebook>=4.4.1->widgetsnbextension~=3.6.0->ipywidgets->leafmap) (1.8.0)\n",
            "Downloading segment_geospatial-0.12.4-py2.py3-none-any.whl (73 kB)\n",
            "\u001b[2K   \u001b[90m━━━━━━━━━━━━━━━━━━━━━━━━━━━━━━━━━━━━━━━━\u001b[0m \u001b[32m73.8/73.8 kB\u001b[0m \u001b[31m7.7 MB/s\u001b[0m eta \u001b[36m0:00:00\u001b[0m\n",
            "\u001b[?25hDownloading supervision-0.6.0-py3-none-any.whl (31 kB)\n",
            "Downloading leafmap-0.42.12-py2.py3-none-any.whl (518 kB)\n",
            "\u001b[2K   \u001b[90m━━━━━━━━━━━━━━━━━━━━━━━━━━━━━━━━━━━━━━━━\u001b[0m \u001b[32m518.7/518.7 kB\u001b[0m \u001b[31m42.4 MB/s\u001b[0m eta \u001b[36m0:00:00\u001b[0m\n",
            "\u001b[?25hDownloading localtileserver-0.10.6-py3-none-any.whl (17.1 MB)\n",
            "\u001b[2K   \u001b[90m━━━━━━━━━━━━━━━━━━━━━━━━━━━━━━━━━━━━━━━━\u001b[0m \u001b[32m17.1/17.1 MB\u001b[0m \u001b[31m91.7 MB/s\u001b[0m eta \u001b[36m0:00:00\u001b[0m\n",
            "\u001b[?25hDownloading flask_restx-1.3.0-py2.py3-none-any.whl (2.8 MB)\n",
            "\u001b[2K   \u001b[90m━━━━━━━━━━━━━━━━━━━━━━━━━━━━━━━━━━━━━━━━\u001b[0m \u001b[32m2.8/2.8 MB\u001b[0m \u001b[31m77.7 MB/s\u001b[0m eta \u001b[36m0:00:00\u001b[0m\n",
            "\u001b[?25hDownloading addict-2.4.0-py3-none-any.whl (3.8 kB)\n",
            "Downloading anywidget-0.9.15-py3-none-any.whl (219 kB)\n",
            "\u001b[2K   \u001b[90m━━━━━━━━━━━━━━━━━━━━━━━━━━━━━━━━━━━━━━━━\u001b[0m \u001b[32m219.1/219.1 kB\u001b[0m \u001b[31m23.4 MB/s\u001b[0m eta \u001b[36m0:00:00\u001b[0m\n",
            "\u001b[?25hDownloading fiona-1.10.1-cp311-cp311-manylinux_2_17_x86_64.manylinux2014_x86_64.whl (17.3 MB)\n",
            "\u001b[2K   \u001b[90m━━━━━━━━━━━━━━━━━━━━━━━━━━━━━━━━━━━━━━━━\u001b[0m \u001b[32m17.3/17.3 MB\u001b[0m \u001b[31m100.3 MB/s\u001b[0m eta \u001b[36m0:00:00\u001b[0m\n",
            "\u001b[?25hDownloading Flask_Caching-2.3.1-py3-none-any.whl (28 kB)\n",
            "Downloading flask_cors-5.0.1-py3-none-any.whl (11 kB)\n",
            "Downloading geojson-3.2.0-py3-none-any.whl (15 kB)\n",
            "Downloading ipympl-0.9.6-py3-none-any.whl (515 kB)\n",
            "\u001b[2K   \u001b[90m━━━━━━━━━━━━━━━━━━━━━━━━━━━━━━━━━━━━━━━━\u001b[0m \u001b[32m515.7/515.7 kB\u001b[0m \u001b[31m46.1 MB/s\u001b[0m eta \u001b[36m0:00:00\u001b[0m\n",
            "\u001b[?25hDownloading ipyvuetify-1.11.1-py2.py3-none-any.whl (7.7 MB)\n",
            "\u001b[2K   \u001b[90m━━━━━━━━━━━━━━━━━━━━━━━━━━━━━━━━━━━━━━━━\u001b[0m \u001b[32m7.7/7.7 MB\u001b[0m \u001b[31m110.1 MB/s\u001b[0m eta \u001b[36m0:00:00\u001b[0m\n",
            "\u001b[?25hDownloading patool-4.0.0-py2.py3-none-any.whl (86 kB)\n",
            "\u001b[2K   \u001b[90m━━━━━━━━━━━━━━━━━━━━━━━━━━━━━━━━━━━━━━━━\u001b[0m \u001b[32m86.3/86.3 kB\u001b[0m \u001b[31m9.5 MB/s\u001b[0m eta \u001b[36m0:00:00\u001b[0m\n",
            "\u001b[?25hDownloading pystac_client-0.8.6-py3-none-any.whl (41 kB)\n",
            "\u001b[2K   \u001b[90m━━━━━━━━━━━━━━━━━━━━━━━━━━━━━━━━━━━━━━━━\u001b[0m \u001b[32m41.4/41.4 kB\u001b[0m \u001b[31m4.0 MB/s\u001b[0m eta \u001b[36m0:00:00\u001b[0m\n",
            "\u001b[?25hDownloading rasterio-1.4.3-cp311-cp311-manylinux_2_17_x86_64.manylinux2014_x86_64.whl (22.2 MB)\n",
            "\u001b[2K   \u001b[90m━━━━━━━━━━━━━━━━━━━━━━━━━━━━━━━━━━━━━━━━\u001b[0m \u001b[32m22.2/22.2 MB\u001b[0m \u001b[31m21.5 MB/s\u001b[0m eta \u001b[36m0:00:00\u001b[0m\n",
            "\u001b[?25hDownloading rio_cogeo-5.4.1-py3-none-any.whl (20 kB)\n",
            "Downloading rio_tiler-7.5.0-py3-none-any.whl (267 kB)\n",
            "\u001b[2K   \u001b[90m━━━━━━━━━━━━━━━━━━━━━━━━━━━━━━━━━━━━━━━━\u001b[0m \u001b[32m267.5/267.5 kB\u001b[0m \u001b[31m7.4 MB/s\u001b[0m eta \u001b[36m0:00:00\u001b[0m\n",
            "\u001b[?25hDownloading rioxarray-0.18.2-py3-none-any.whl (61 kB)\n",
            "\u001b[2K   \u001b[90m━━━━━━━━━━━━━━━━━━━━━━━━━━━━━━━━━━━━━━━━\u001b[0m \u001b[32m61.9/61.9 kB\u001b[0m \u001b[31m6.6 MB/s\u001b[0m eta \u001b[36m0:00:00\u001b[0m\n",
            "\u001b[?25hUsing cached nvidia_cublas_cu12-12.4.5.8-py3-none-manylinux2014_x86_64.whl (363.4 MB)\n",
            "Using cached nvidia_cuda_cupti_cu12-12.4.127-py3-none-manylinux2014_x86_64.whl (13.8 MB)\n",
            "Using cached nvidia_cuda_nvrtc_cu12-12.4.127-py3-none-manylinux2014_x86_64.whl (24.6 MB)\n",
            "Using cached nvidia_cuda_runtime_cu12-12.4.127-py3-none-manylinux2014_x86_64.whl (883 kB)\n",
            "Using cached nvidia_cudnn_cu12-9.1.0.70-py3-none-manylinux2014_x86_64.whl (664.8 MB)\n",
            "Using cached nvidia_cufft_cu12-11.2.1.3-py3-none-manylinux2014_x86_64.whl (211.5 MB)\n",
            "Using cached nvidia_curand_cu12-10.3.5.147-py3-none-manylinux2014_x86_64.whl (56.3 MB)\n",
            "Using cached nvidia_cusolver_cu12-11.6.1.9-py3-none-manylinux2014_x86_64.whl (127.9 MB)\n",
            "Using cached nvidia_cusparse_cu12-12.3.1.170-py3-none-manylinux2014_x86_64.whl (207.5 MB)\n",
            "Using cached nvidia_nvjitlink_cu12-12.4.127-py3-none-manylinux2014_x86_64.whl (21.1 MB)\n",
            "Downloading segment_anything_hq-0.3-py3-none-any.whl (52 kB)\n",
            "\u001b[2K   \u001b[90m━━━━━━━━━━━━━━━━━━━━━━━━━━━━━━━━━━━━━━━━\u001b[0m \u001b[32m53.0/53.0 kB\u001b[0m \u001b[31m65.3 kB/s\u001b[0m eta \u001b[36m0:00:00\u001b[0m\n",
            "\u001b[?25hDownloading segment_anything_py-1.0.1-py3-none-any.whl (40 kB)\n",
            "\u001b[2K   \u001b[90m━━━━━━━━━━━━━━━━━━━━━━━━━━━━━━━━━━━━━━━━\u001b[0m \u001b[32m40.5/40.5 kB\u001b[0m \u001b[31m3.9 MB/s\u001b[0m eta \u001b[36m0:00:00\u001b[0m\n",
            "\u001b[?25hDownloading server_thread-0.3.0-py3-none-any.whl (6.6 kB)\n",
            "Downloading whiteboxgui-2.3.0-py2.py3-none-any.whl (108 kB)\n",
            "\u001b[2K   \u001b[90m━━━━━━━━━━━━━━━━━━━━━━━━━━━━━━━━━━━━━━━━\u001b[0m \u001b[32m108.6/108.6 kB\u001b[0m \u001b[31m10.9 MB/s\u001b[0m eta \u001b[36m0:00:00\u001b[0m\n",
            "\u001b[?25hDownloading yapf-0.43.0-py3-none-any.whl (256 kB)\n",
            "\u001b[2K   \u001b[90m━━━━━━━━━━━━━━━━━━━━━━━━━━━━━━━━━━━━━━━━\u001b[0m \u001b[32m256.2/256.2 kB\u001b[0m \u001b[31m21.2 MB/s\u001b[0m eta \u001b[36m0:00:00\u001b[0m\n",
            "\u001b[?25hDownloading aniso8601-10.0.0-py2.py3-none-any.whl (52 kB)\n",
            "\u001b[2K   \u001b[90m━━━━━━━━━━━━━━━━━━━━━━━━━━━━━━━━━━━━━━━━\u001b[0m \u001b[32m52.8/52.8 kB\u001b[0m \u001b[31m5.3 MB/s\u001b[0m eta \u001b[36m0:00:00\u001b[0m\n",
            "\u001b[?25hDownloading cachelib-0.13.0-py3-none-any.whl (20 kB)\n",
            "Downloading click_plugins-1.1.1-py2.py3-none-any.whl (7.5 kB)\n",
            "Downloading cligj-0.7.2-py3-none-any.whl (7.1 kB)\n",
            "Downloading hydra_core-1.3.2-py3-none-any.whl (154 kB)\n",
            "\u001b[2K   \u001b[90m━━━━━━━━━━━━━━━━━━━━━━━━━━━━━━━━━━━━━━━━\u001b[0m \u001b[32m154.5/154.5 kB\u001b[0m \u001b[31m13.5 MB/s\u001b[0m eta \u001b[36m0:00:00\u001b[0m\n",
            "\u001b[?25hDownloading ipyvue-1.11.2-py2.py3-none-any.whl (2.7 MB)\n",
            "\u001b[2K   \u001b[90m━━━━━━━━━━━━━━━━━━━━━━━━━━━━━━━━━━━━━━━━\u001b[0m \u001b[32m2.7/2.7 MB\u001b[0m \u001b[31m31.1 MB/s\u001b[0m eta \u001b[36m0:00:00\u001b[0m\n",
            "\u001b[?25hDownloading morecantile-6.2.0-py3-none-any.whl (49 kB)\n",
            "\u001b[2K   \u001b[90m━━━━━━━━━━━━━━━━━━━━━━━━━━━━━━━━━━━━━━━━\u001b[0m \u001b[32m49.5/49.5 kB\u001b[0m \u001b[31m4.9 MB/s\u001b[0m eta \u001b[36m0:00:00\u001b[0m\n",
            "\u001b[?25hDownloading psygnal-0.12.0-cp311-cp311-manylinux_2_17_x86_64.manylinux2014_x86_64.whl (765 kB)\n",
            "\u001b[2K   \u001b[90m━━━━━━━━━━━━━━━━━━━━━━━━━━━━━━━━━━━━━━━━\u001b[0m \u001b[32m765.5/765.5 kB\u001b[0m \u001b[31m44.5 MB/s\u001b[0m eta \u001b[36m0:00:00\u001b[0m\n",
            "\u001b[?25hDownloading pystac-1.12.2-py3-none-any.whl (194 kB)\n",
            "\u001b[2K   \u001b[90m━━━━━━━━━━━━━━━━━━━━━━━━━━━━━━━━━━━━━━━━\u001b[0m \u001b[32m194.2/194.2 kB\u001b[0m \u001b[31m17.7 MB/s\u001b[0m eta \u001b[36m0:00:00\u001b[0m\n",
            "\u001b[?25hDownloading affine-2.4.0-py3-none-any.whl (15 kB)\n",
            "Downloading color_operations-0.1.6-cp311-cp311-manylinux_2_5_x86_64.manylinux1_x86_64.manylinux_2_17_x86_64.manylinux2014_x86_64.whl (195 kB)\n",
            "\u001b[2K   \u001b[90m━━━━━━━━━━━━━━━━━━━━━━━━━━━━━━━━━━━━━━━━\u001b[0m \u001b[32m195.0/195.0 kB\u001b[0m \u001b[31m16.2 MB/s\u001b[0m eta \u001b[36m0:00:00\u001b[0m\n",
            "\u001b[?25hDownloading uvicorn-0.34.0-py3-none-any.whl (62 kB)\n",
            "\u001b[2K   \u001b[90m━━━━━━━━━━━━━━━━━━━━━━━━━━━━━━━━━━━━━━━━\u001b[0m \u001b[32m62.3/62.3 kB\u001b[0m \u001b[31m6.4 MB/s\u001b[0m eta \u001b[36m0:00:00\u001b[0m\n",
            "\u001b[?25hDownloading whitebox-2.3.6-py2.py3-none-any.whl (74 kB)\n",
            "\u001b[2K   \u001b[90m━━━━━━━━━━━━━━━━━━━━━━━━━━━━━━━━━━━━━━━━\u001b[0m \u001b[32m74.0/74.0 kB\u001b[0m \u001b[31m6.7 MB/s\u001b[0m eta \u001b[36m0:00:00\u001b[0m\n",
            "\u001b[?25hDownloading jedi-0.19.2-py2.py3-none-any.whl (1.6 MB)\n",
            "\u001b[2K   \u001b[90m━━━━━━━━━━━━━━━━━━━━━━━━━━━━━━━━━━━━━━━━\u001b[0m \u001b[32m1.6/1.6 MB\u001b[0m \u001b[31m69.2 MB/s\u001b[0m eta \u001b[36m0:00:00\u001b[0m\n",
            "\u001b[?25hDownloading omegaconf-2.3.0-py3-none-any.whl (79 kB)\n",
            "\u001b[2K   \u001b[90m━━━━━━━━━━━━━━━━━━━━━━━━━━━━━━━━━━━━━━━━\u001b[0m \u001b[32m79.5/79.5 kB\u001b[0m \u001b[31m8.4 MB/s\u001b[0m eta \u001b[36m0:00:00\u001b[0m\n",
            "\u001b[?25hDownloading portalocker-3.1.1-py3-none-any.whl (19 kB)\n",
            "Building wheels for collected packages: groundingdino-py, sam2, antlr4-python3-runtime, iopath\n",
            "  Building wheel for groundingdino-py (setup.py) ... \u001b[?25l\u001b[?25hdone\n",
            "  Created wheel for groundingdino-py: filename=groundingdino_py-0.4.0-py2.py3-none-any.whl size=88733 sha256=8c17bdba68b003da29d29b7dd180061b15b5b7e5cb7ded2bc3ef8077c49c29ba\n",
            "  Stored in directory: /root/.cache/pip/wheels/fb/d4/c6/bdacf5e1dfeb8f104b8ec5968ee61c0f6ef9d9193ba85c0b8d\n",
            "  Building wheel for sam2 (pyproject.toml) ... \u001b[?25l\u001b[?25hdone\n",
            "  Created wheel for sam2: filename=sam2-1.1.0-cp311-cp311-linux_x86_64.whl size=471029 sha256=0b33e7abd196ac0d60eec2391b8e8c5c386cc3f51658e4e0827f4d93583bc824\n",
            "  Stored in directory: /root/.cache/pip/wheels/d5/c6/ed/164df00d6a31203bc2cd1f65385761825e32a77417b90cc3c7\n",
            "  Building wheel for antlr4-python3-runtime (setup.py) ... \u001b[?25l\u001b[?25hdone\n",
            "  Created wheel for antlr4-python3-runtime: filename=antlr4_python3_runtime-4.9.3-py3-none-any.whl size=144555 sha256=da1becf1e735e7b758577e8a45220bab1d5a950001ea9657c2718ef07a4c770c\n",
            "  Stored in directory: /root/.cache/pip/wheels/1a/97/32/461f837398029ad76911109f07047fde1d7b661a147c7c56d1\n",
            "  Building wheel for iopath (setup.py) ... \u001b[?25l\u001b[?25hdone\n",
            "  Created wheel for iopath: filename=iopath-0.1.10-py3-none-any.whl size=31528 sha256=4ca3ced6b8137f3964b2bcbb1fbc920d51b86f0b51d775556b12028135d849a3\n",
            "  Stored in directory: /root/.cache/pip/wheels/ba/5e/16/6117f8fe7e9c0c161a795e10d94645ebcf301ccbd01f66d8ec\n",
            "Successfully built groundingdino-py sam2 antlr4-python3-runtime iopath\n",
            "Installing collected packages: antlr4-python3-runtime, aniso8601, addict, yapf, whitebox, uvicorn, psygnal, portalocker, patool, omegaconf, nvidia-nvjitlink-cu12, nvidia-curand-cu12, nvidia-cufft-cu12, nvidia-cuda-runtime-cu12, nvidia-cuda-nvrtc-cu12, nvidia-cuda-cupti-cu12, nvidia-cublas-cu12, jedi, geojson, color-operations, cligj, click-plugins, cachelib, affine, server-thread, rasterio, pystac, nvidia-cusparse-cu12, nvidia-cudnn-cu12, iopath, hydra-core, fiona, supervision, nvidia-cusolver-cu12, morecantile, flask-cors, Flask-Caching, rioxarray, rio-tiler, rio-cogeo, flask-restx, pystac-client, localtileserver, segment-anything-py, segment-anything-hq, sam2, groundingdino-py, ipyvue, ipympl, anywidget, whiteboxgui, ipyvuetify, leafmap, segment-geospatial\n",
            "  Attempting uninstall: nvidia-nvjitlink-cu12\n",
            "    Found existing installation: nvidia-nvjitlink-cu12 12.5.82\n",
            "    Uninstalling nvidia-nvjitlink-cu12-12.5.82:\n",
            "      Successfully uninstalled nvidia-nvjitlink-cu12-12.5.82\n",
            "  Attempting uninstall: nvidia-curand-cu12\n",
            "    Found existing installation: nvidia-curand-cu12 10.3.6.82\n",
            "    Uninstalling nvidia-curand-cu12-10.3.6.82:\n",
            "      Successfully uninstalled nvidia-curand-cu12-10.3.6.82\n",
            "  Attempting uninstall: nvidia-cufft-cu12\n",
            "    Found existing installation: nvidia-cufft-cu12 11.2.3.61\n",
            "    Uninstalling nvidia-cufft-cu12-11.2.3.61:\n",
            "      Successfully uninstalled nvidia-cufft-cu12-11.2.3.61\n",
            "  Attempting uninstall: nvidia-cuda-runtime-cu12\n",
            "    Found existing installation: nvidia-cuda-runtime-cu12 12.5.82\n",
            "    Uninstalling nvidia-cuda-runtime-cu12-12.5.82:\n",
            "      Successfully uninstalled nvidia-cuda-runtime-cu12-12.5.82\n",
            "  Attempting uninstall: nvidia-cuda-nvrtc-cu12\n",
            "    Found existing installation: nvidia-cuda-nvrtc-cu12 12.5.82\n",
            "    Uninstalling nvidia-cuda-nvrtc-cu12-12.5.82:\n",
            "      Successfully uninstalled nvidia-cuda-nvrtc-cu12-12.5.82\n",
            "  Attempting uninstall: nvidia-cuda-cupti-cu12\n",
            "    Found existing installation: nvidia-cuda-cupti-cu12 12.5.82\n",
            "    Uninstalling nvidia-cuda-cupti-cu12-12.5.82:\n",
            "      Successfully uninstalled nvidia-cuda-cupti-cu12-12.5.82\n",
            "  Attempting uninstall: nvidia-cublas-cu12\n",
            "    Found existing installation: nvidia-cublas-cu12 12.5.3.2\n",
            "    Uninstalling nvidia-cublas-cu12-12.5.3.2:\n",
            "      Successfully uninstalled nvidia-cublas-cu12-12.5.3.2\n",
            "  Attempting uninstall: nvidia-cusparse-cu12\n",
            "    Found existing installation: nvidia-cusparse-cu12 12.5.1.3\n",
            "    Uninstalling nvidia-cusparse-cu12-12.5.1.3:\n",
            "      Successfully uninstalled nvidia-cusparse-cu12-12.5.1.3\n",
            "  Attempting uninstall: nvidia-cudnn-cu12\n",
            "    Found existing installation: nvidia-cudnn-cu12 9.3.0.75\n",
            "    Uninstalling nvidia-cudnn-cu12-9.3.0.75:\n",
            "      Successfully uninstalled nvidia-cudnn-cu12-9.3.0.75\n",
            "  Attempting uninstall: nvidia-cusolver-cu12\n",
            "    Found existing installation: nvidia-cusolver-cu12 11.6.3.83\n",
            "    Uninstalling nvidia-cusolver-cu12-11.6.3.83:\n",
            "      Successfully uninstalled nvidia-cusolver-cu12-11.6.3.83\n",
            "Successfully installed Flask-Caching-2.3.1 addict-2.4.0 affine-2.4.0 aniso8601-10.0.0 antlr4-python3-runtime-4.9.3 anywidget-0.9.15 cachelib-0.13.0 click-plugins-1.1.1 cligj-0.7.2 color-operations-0.1.6 fiona-1.10.1 flask-cors-5.0.1 flask-restx-1.3.0 geojson-3.2.0 groundingdino-py-0.4.0 hydra-core-1.3.2 iopath-0.1.10 ipympl-0.9.6 ipyvue-1.11.2 ipyvuetify-1.11.1 jedi-0.19.2 leafmap-0.42.12 localtileserver-0.10.6 morecantile-6.2.0 nvidia-cublas-cu12-12.4.5.8 nvidia-cuda-cupti-cu12-12.4.127 nvidia-cuda-nvrtc-cu12-12.4.127 nvidia-cuda-runtime-cu12-12.4.127 nvidia-cudnn-cu12-9.1.0.70 nvidia-cufft-cu12-11.2.1.3 nvidia-curand-cu12-10.3.5.147 nvidia-cusolver-cu12-11.6.1.9 nvidia-cusparse-cu12-12.3.1.170 nvidia-nvjitlink-cu12-12.4.127 omegaconf-2.3.0 patool-4.0.0 portalocker-3.1.1 psygnal-0.12.0 pystac-1.12.2 pystac-client-0.8.6 rasterio-1.4.3 rio-cogeo-5.4.1 rio-tiler-7.5.0 rioxarray-0.18.2 sam2-1.1.0 segment-anything-hq-0.3 segment-anything-py-1.0.1 segment-geospatial-0.12.4 server-thread-0.3.0 supervision-0.6.0 uvicorn-0.34.0 whitebox-2.3.6 whiteboxgui-2.3.0 yapf-0.43.0\n"
          ]
        },
        {
          "output_type": "display_data",
          "data": {
            "application/vnd.colab-display-data+json": {
              "pip_warning": {
                "packages": [
                  "pydevd_plugins"
                ]
              },
              "id": "8f3196bf837b4ddc87b74023b713f0dc"
            }
          },
          "metadata": {}
        }
      ],
      "source": [
        "# %pip install segment-geospatial groundingdino-py leafmap localtileserver"
      ]
    },
    {
      "cell_type": "markdown",
      "source": [
        "4. When the installation completes, you will have to restart the runtime. Click accept on the popup that appears. Don't worry, we haven't created any variables so nothing will get deleted!"
      ],
      "metadata": {
        "id": "ZU6jZKaQYebt"
      }
    },
    {
      "cell_type": "markdown",
      "source": [
        "![2025-02-21_10-38-18.png](data:image/png;base64,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)"
      ],
      "metadata": {
        "id": "QbUx2sjMKaet"
      }
    },
    {
      "cell_type": "markdown",
      "source": [
        "5. Enable third party Jupyter widgets (like leafmap)"
      ],
      "metadata": {
        "id": "W0aS_s_IujoU"
      }
    },
    {
      "cell_type": "code",
      "source": [
        "from google.colab import output\n",
        "output.enable_custom_widget_manager()"
      ],
      "metadata": {
        "id": "igKmItMzOM6R",
        "outputId": "7264d6aa-77c1-44c5-e19c-21f409b9dc9d",
        "colab": {
          "base_uri": "https://localhost:8080/",
          "height": 17
        }
      },
      "execution_count": 8,
      "outputs": [
        {
          "output_type": "display_data",
          "data": {
            "text/plain": [
              "<IPython.core.display.Javascript object>"
            ],
            "application/javascript": [
              "\n",
              "  google.colab.widgets.installCustomManager('https://ssl.gstatic.com/colaboratory-static/widgets/colab-cdn-widget-manager/6a14374f468a145a/manager.min.js');\n"
            ]
          },
          "metadata": {}
        }
      ]
    },
    {
      "cell_type": "markdown",
      "source": [
        "6. Now import the packages:"
      ],
      "metadata": {
        "id": "QE1aJATrKi2L"
      }
    },
    {
      "cell_type": "code",
      "execution_count": 10,
      "metadata": {
        "id": "_vsLi9BAVV5g"
      },
      "outputs": [],
      "source": [
        "import leafmap # This is an interactive mapping widget for python\n",
        "from samgeo import tms_to_geotiff, split_raster # These are the functions for downloading satellite imagery and tiling data\n",
        "from samgeo.text_sam import LangSAM # This is the function for initializing the model"
      ]
    },
    {
      "cell_type": "markdown",
      "source": [
        "## 2. Download Drone Imagery"
      ],
      "metadata": {
        "id": "6bGzq-zLKyqX"
      }
    },
    {
      "cell_type": "markdown",
      "source": [
        "1. We will be using 2 previously collected drone images of Paradise Pond that can be downloaded from Box."
      ],
      "metadata": {
        "id": "eHW1MXCALLAn"
      }
    },
    {
      "cell_type": "code",
      "source": [
        "import urllib.request # Library for downloading data from URLs\n",
        "\n",
        "morning_URL='https://tufts.box.com/shared/static/y072z4q64pitivzwb9sep5dibg5lolgc.tif'\n",
        "urllib.request.urlretrieve(morning_URL, \"morning.tif\") #Download image as morning.tif\n",
        "\n",
        "afternoon_URL='https://tufts.box.com/shared/static/8vxnxbuizhyc0idl2rb15b85b6x4el2q.tif'\n",
        "urllib.request.urlretrieve(afternoon_URL, \"afternoon.tif\") #Download image as afternoon.tif"
      ],
      "metadata": {
        "colab": {
          "base_uri": "https://localhost:8080/"
        },
        "id": "eKsT1Kt_LBPJ",
        "outputId": "813dde68-080e-41cb-c423-cef895244e02"
      },
      "execution_count": 3,
      "outputs": [
        {
          "output_type": "execute_result",
          "data": {
            "text/plain": [
              "('afternoon.tif', <http.client.HTTPMessage at 0x78b92fe59310>)"
            ]
          },
          "metadata": {},
          "execution_count": 3
        }
      ]
    },
    {
      "cell_type": "markdown",
      "source": [
        "2.  **We've already calculated pyramids so the display is faster.** This means the display resolution will be lower when we are more zoomed out. This is the code that would have been used to create pyramids. Unlike in ArcGIS Pro, pyramids in RasterIO are stored internally (in the same file) and don't include a .ovr file."
      ],
      "metadata": {
        "id": "qiYK299QBBxE"
      }
    },
    {
      "cell_type": "code",
      "source": [
        "# Create pyramids so display is faster\n",
        "\n",
        "#import rasterio\n",
        "#from rasterio.enums import Resampling\n",
        "\n",
        "#factors = [2, 4, 8, 16]\n",
        "\n",
        "#dst = rasterio.open('morning.tif', 'r+')\n",
        "#dst.build_overviews(factors, Resampling.average)\n",
        "#dst.update_tags(ns='rio_overview', resampling='average')\n",
        "#dst.close()\n",
        "\n",
        "#dst = rasterio.open('afternoon.tif', 'r+')\n",
        "#dst.build_overviews(factors, Resampling.average)\n",
        "#dst.update_tags(ns='rio_overview', resampling='average')\n",
        "#dst.close()"
      ],
      "metadata": {
        "id": "5IjW_Wp0AfsJ"
      },
      "execution_count": null,
      "outputs": []
    },
    {
      "cell_type": "markdown",
      "source": [
        "3. Create a new interactive map centered on our new imagery at 42.318058 N, 72.641808 W. These are the coordinates of Paradise Pond!"
      ],
      "metadata": {
        "id": "2s0d8DUWOglQ"
      }
    },
    {
      "cell_type": "code",
      "source": [
        "m = leafmap.Map(center=[42.318058, -72.641808], zoom=18, height=\"800px\")\n",
        "m.add_basemap(\"ROADMAP\")\n",
        "m"
      ],
      "metadata": {
        "id": "xDUzxBRaN3Ua",
        "outputId": "de1ccdc5-16b3-4252-9d05-697b6fab98ab",
        "colab": {
          "base_uri": "https://localhost:8080/",
          "height": 176
        }
      },
      "execution_count": 11,
      "outputs": [
        {
          "output_type": "error",
          "ename": "AttributeError",
          "evalue": "'Map' object has no attribute 'add_basemap'",
          "traceback": [
            "\u001b[0;31m---------------------------------------------------------------------------\u001b[0m",
            "\u001b[0;31mAttributeError\u001b[0m                            Traceback (most recent call last)",
            "\u001b[0;32m<ipython-input-11-ae716bcdc21b>\u001b[0m in \u001b[0;36m<cell line: 0>\u001b[0;34m()\u001b[0m\n\u001b[1;32m      1\u001b[0m \u001b[0mm\u001b[0m \u001b[0;34m=\u001b[0m \u001b[0mipyleaflet\u001b[0m\u001b[0;34m.\u001b[0m\u001b[0mMap\u001b[0m\u001b[0;34m(\u001b[0m\u001b[0mcenter\u001b[0m\u001b[0;34m=\u001b[0m\u001b[0;34m[\u001b[0m\u001b[0;36m42.318058\u001b[0m\u001b[0;34m,\u001b[0m \u001b[0;34m-\u001b[0m\u001b[0;36m72.641808\u001b[0m\u001b[0;34m]\u001b[0m\u001b[0;34m,\u001b[0m \u001b[0mzoom\u001b[0m\u001b[0;34m=\u001b[0m\u001b[0;36m18\u001b[0m\u001b[0;34m,\u001b[0m \u001b[0mheight\u001b[0m\u001b[0;34m=\u001b[0m\u001b[0;34m\"800px\"\u001b[0m\u001b[0;34m)\u001b[0m\u001b[0;34m\u001b[0m\u001b[0;34m\u001b[0m\u001b[0m\n\u001b[0;32m----> 2\u001b[0;31m \u001b[0mm\u001b[0m\u001b[0;34m.\u001b[0m\u001b[0madd_basemap\u001b[0m\u001b[0;34m(\u001b[0m\u001b[0;34m\"ROADMAP\"\u001b[0m\u001b[0;34m)\u001b[0m\u001b[0;34m\u001b[0m\u001b[0;34m\u001b[0m\u001b[0m\n\u001b[0m\u001b[1;32m      3\u001b[0m \u001b[0mm\u001b[0m\u001b[0;34m\u001b[0m\u001b[0;34m\u001b[0m\u001b[0m\n",
            "\u001b[0;31mAttributeError\u001b[0m: 'Map' object has no attribute 'add_basemap'"
          ]
        }
      ]
    },
    {
      "cell_type": "markdown",
      "source": [
        "4. Add the downloaded image and explore it in the widget. What do you notice? How many geese do you see? What other things might get confused for geese? Is there a particular region that has the most geese?"
      ],
      "metadata": {
        "id": "tZTr2RO_OneP"
      }
    },
    {
      "cell_type": "code",
      "source": [
        "m.layers[-1].visible = False\n",
        "m.add_raster('morning.tif', layer_name=\"Image\")\n",
        "m"
      ],
      "metadata": {
        "id": "9OwngPNCOG6w",
        "outputId": "b81ad797-e84a-4a2f-8129-e93d83ffb839",
        "colab": {
          "resources": {
            "http://localhost:37865/api/tiles/16/19544/24250.png?&filename=%2Fcontent%2Fmorning.tif": {
              "data": "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",
              "ok": true,
              "headers": [
                [
                  "content-length",
                  "10194"
                ],
                [
                  "content-type",
                  "image/PNG"
                ]
              ],
              "status": 200,
              "status_text": ""
            },
            "http://localhost:37865/api/tiles/16/19543/24250.png?&filename=%2Fcontent%2Fmorning.tif": {
              "data": "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",
              "ok": true,
              "headers": [
                [
                  "content-length",
                  "9965"
                ],
                [
                  "content-type",
                  "image/PNG"
                ]
              ],
              "status": 200,
              "status_text": ""
            },
            "http://localhost:37865/api/tiles/16/19544/24249.png?&filename=%2Fcontent%2Fmorning.tif": {
              "data": "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",
              "ok": true,
              "headers": [
                [
                  "content-length",
                  "18633"
                ],
                [
                  "content-type",
                  "image/PNG"
                ]
              ],
              "status": 200,
              "status_text": ""
            },
            "http://localhost:37865/api/tiles/16/19543/24249.png?&filename=%2Fcontent%2Fmorning.tif": {
              "data": "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",
              "ok": true,
              "headers": [
                [
                  "content-length",
                  "22237"
                ],
                [
                  "content-type",
                  "image/PNG"
                ]
              ],
              "status": 200,
              "status_text": ""
            }
          },
          "base_uri": "https://localhost:8080/",
          "height": 821,
          "referenced_widgets": [
            "77b229241b07413f9aadc7813aa3273a",
            "17a2a5f71e8645c0ac5c13c00cce5738",
            "857da3fddc25403caadfb54e145d36bc",
            "ef8003b1f7c74ab88aa03576decde3dc",
            "9af6396c8a8c4d6fb8ff6a18a3c65b21",
            "6f13539644c54e3f969efceef6f72818",
            "3e0fd38d7412417b9957344ea95c08b5",
            "4bd24def62c64c7eb173cbf9b1e5c9b4",
            "35c96ab2eaf441d7bd88d253f55bbccb",
            "9ed404b283e046a8b2c5dc51e2a7a72d",
            "6556970747de4d08a0db50ced2010fca",
            "d91a2b95da7d4fbca23fb411b214993d",
            "7493cb3553c34475a62a75116c0b9234",
            "5b355741fa2941b1ab24ba84c19049c5",
            "e622900d694f4c6a9635f2fe372493ba",
            "c1aea116063a40b9b0ed5168b62e0260",
            "510344c5d2f24a7da62d4b4662dbc365",
            "5ddf634a2f52451691a1f5a7b55ea665",
            "601c02dca712469eb81dba5fb7b3a027",
            "58f25dcf7caf4e24a624b437f7742861",
            "2d653758d51d4c43956f1267f5f1459a",
            "33558f298816451b97d28db3406be082",
            "a3a08c662de64d5e9bdb080ad89f4b85",
            "9c1d828ba77748ee8bd4572aded1e597",
            "8013e71fa73d46debf2bd50e60e623a3",
            "69e6527bf3ca473fb12e21279cb9df96",
            "5ea78f2342ac49a3aa1123ed44f121bf"
          ]
        }
      },
      "execution_count": 7,
      "outputs": [
        {
          "output_type": "display_data",
          "data": {
            "text/plain": [
              "Map(bottom=24832370.0, center=[42.318399, -72.6418685], controls=(ZoomControl(options=['position', 'zoom_in_te…"
            ],
            "application/vnd.jupyter.widget-view+json": {
              "version_major": 2,
              "version_minor": 0,
              "model_id": "7493cb3553c34475a62a75116c0b9234"
            }
          },
          "metadata": {
            "application/vnd.jupyter.widget-view+json": {
              "colab": {
                "custom_widget_manager": {
                  "url": "https://ssl.gstatic.com/colaboratory-static/widgets/colab-cdn-widget-manager/2b70e893a8ba7c0f/manager.min.js"
                }
              }
            }
          }
        }
      ]
    },
    {
      "cell_type": "markdown",
      "source": [
        "There are so many!"
      ],
      "metadata": {
        "id": "8pHjZCfFB9j8"
      }
    },
    {
      "cell_type": "markdown",
      "source": [
        "## 3. Initialize the Default Model on the Morning Image"
      ],
      "metadata": {
        "id": "KnKfECOCOzzn"
      }
    },
    {
      "cell_type": "markdown",
      "source": [
        "We will now initialize the SAM model on our morning image with the default settings and try a few different text prompts including geese, bird, waterfowl, and duck."
      ],
      "metadata": {
        "id": "AT-1xNA5O5Lv"
      }
    },
    {
      "cell_type": "markdown",
      "source": [
        "1. Initialize the model with the following code. This also might take a while, but will only need to be done once! The initialization downloads the model weights and sets up the model for inference."
      ],
      "metadata": {
        "id": "SOQgyR03PBfI"
      }
    },
    {
      "cell_type": "code",
      "source": [
        "sam = LangSAM()"
      ],
      "metadata": {
        "id": "jzwOHm3JPGsC"
      },
      "execution_count": null,
      "outputs": []
    },
    {
      "cell_type": "markdown",
      "source": [
        "2. Specify text prompts:"
      ],
      "metadata": {
        "id": "ZJGDLw8mPeyA"
      }
    },
    {
      "cell_type": "code",
      "source": [
        "P1 = \"geese\"\n",
        "P2 = 'goose'\n",
        "P3 = 'bird'\n",
        "P4 = 'waterfowl'\n",
        "P5 = 'duck'\n",
        "P6 = '' #choose your own text prompt that is not in the image (i.e., skyscraper)"
      ],
      "metadata": {
        "id": "2Ndkg_wuPjyW"
      },
      "execution_count": null,
      "outputs": []
    },
    {
      "cell_type": "markdown",
      "source": [
        "3. We need to tile the image so it doesn't crash the runtime (by taking up too much RAM). Run the following code to generate morning tiles. We can reuse these throughout the tutorial:"
      ],
      "metadata": {
        "id": "tHzK-oeOCl4K"
      }
    },
    {
      "cell_type": "code",
      "source": [
        "split_raster('morning.tif', out_dir=\"morning_tiles\", tile_size=(2000, 2000), overlap=0)"
      ],
      "metadata": {
        "id": "vEYhCW8vCtnJ"
      },
      "execution_count": null,
      "outputs": []
    },
    {
      "cell_type": "markdown",
      "source": [
        "Aside: what is a tile?"
      ],
      "metadata": {
        "id": "ArDOZugKLUE1"
      }
    },
    {
      "cell_type": "markdown",
      "source": [
        "4. Segment the **tile_3_4** with the default thresholds. This tile is the 6th tile from the top and 6th from the left of the image."
      ],
      "metadata": {
        "id": "-x2F2j9TPxbX"
      }
    },
    {
      "cell_type": "code",
      "source": [
        "sam.predict(image=\"morning_tiles/tile_3_4.tif\",\n",
        "            text_prompt=P1,\n",
        "            box_threshold=0.25,\n",
        "            text_threshold=0.25)\n",
        "sam.show_anns(\n",
        "    cmap=\"Oranges\",\n",
        "    box_color=\"red\",\n",
        "    title=\"Automatic Segmentation of \"+P1,\n",
        "    blend=True\n",
        ")"
      ],
      "metadata": {
        "id": "u1nsP9KxuVxd"
      },
      "execution_count": null,
      "outputs": []
    },
    {
      "cell_type": "markdown",
      "source": [
        "5. Now segment with each of the 4 other text prompts (P2 - P5) and one of your own that you determined in step 2."
      ],
      "metadata": {
        "id": "yvlrI8keutjn"
      }
    },
    {
      "cell_type": "code",
      "source": [
        "for prompt in [P1, P2, P3, P4, P5, P6]:\n",
        "  sam.predict(image=\"morning_tiles/tile_3_4.tif\",\n",
        "              text_prompt=prompt,\n",
        "              box_threshold=0.25,\n",
        "              text_threshold=0.25)\n",
        "  sam.show_anns(cmap=\"Oranges\",\n",
        "                box_color=\"red\",\n",
        "                title=\"Automatic Segmentation of \"+prompt,\n",
        "                blend=True)"
      ],
      "metadata": {
        "id": "FCfrLG43u8Pk"
      },
      "execution_count": null,
      "outputs": []
    },
    {
      "cell_type": "markdown",
      "source": [
        "6. Compare each of the results for the different text prompts. Which prompt was most effective? Why do you think the results are the way they are? What other prompts might you want to try?"
      ],
      "metadata": {
        "id": "2QG4V29ZwD4-"
      }
    },
    {
      "cell_type": "markdown",
      "source": [
        "7. Select a different tile and determine the best text prompt for the default thresholds:"
      ],
      "metadata": {
        "id": "7phgn2uzzqYq"
      }
    },
    {
      "cell_type": "code",
      "source": [
        "my_best_prompt='' #Put your best prompt here\n",
        "\n",
        "sam.predict(image=\"morning_tiles/tile_X_X.tif\", #Replace the X_X with your tile number\n",
        "            text_prompt=my_best_prompt,\n",
        "            box_threshold=0.25,\n",
        "            text_threshold=0.25)\n",
        "sam.show_anns(cmap=\"Oranges\",\n",
        "              box_color=\"red\",\n",
        "              title=\"My best segmentation prompt (default thresholds): \"+my_best_prompt,\n",
        "              blend=True)"
      ],
      "metadata": {
        "id": "mJBr_frFzvky"
      },
      "execution_count": null,
      "outputs": []
    },
    {
      "cell_type": "markdown",
      "source": [
        "8. Right-click on the image and save your results!"
      ],
      "metadata": {
        "id": "y3T6oByK0r5L"
      }
    },
    {
      "cell_type": "markdown",
      "source": [
        "## Interactive Segmentation"
      ],
      "metadata": {
        "id": "nD7X3n0LzaNS"
      }
    },
    {
      "cell_type": "markdown",
      "source": [
        "You can also do segmentation interactively on a tile and can adjust text prompts, box thresholds, and text thresholds.\n",
        "\n",
        "```text_prompt```: the prompt that is supplied to the model.\n",
        "\n",
        "```box_threshold```: This value is used for object detection in the image. A higher value makes the model more selective, identifying only the most confident object instances, leading to fewer overall detections. A lower value, conversely, makes the model more tolerant, leading to increased detections, including potentially less confident ones.\n",
        "\n",
        "```text_threshold```: This value is used to associate the detected objects with the provided text prompt. A higher value requires a stronger association between the object and the text prompt, leading to more precise but potentially fewer associations. A lower value allows for looser associations, which could increase the number of associations but also introduce less precise matches.\n",
        "\n",
        "**Remember to test different threshold values on your specific data. The optimal threshold can vary depending on the quality and nature of your images, as well as the specificity of your text prompts. Make sure to choose a balance that suits your requirements, whether that's precision (how many of the classified objects are actually those objects) or recall (how many objects that are actually the object are classified correctly).**\n",
        "\n",
        "You can read more about different types of accuracy here: https://developers.google.com/machine-learning/crash-course/classification/accuracy-precision-recall"
      ],
      "metadata": {
        "id": "u6Yf4bzu09oj"
      }
    },
    {
      "cell_type": "markdown",
      "source": [
        "1. Turn on interactive segmentation"
      ],
      "metadata": {
        "id": "md7QeiDfzJLk"
      }
    },
    {
      "cell_type": "code",
      "source": [
        "#First do one manually to get things set up:\n",
        "sam.predict(image=\"morning_tiles/tile_6_6.tif\",\n",
        "            text_prompt='bird',\n",
        "            box_threshold=0.25,\n",
        "            text_threshold=0.25)\n",
        "\n",
        "#Then show map\n",
        "sam.show_map()"
      ],
      "metadata": {
        "id": "Nl98tGa8zNak"
      },
      "execution_count": null,
      "outputs": []
    },
    {
      "cell_type": "markdown",
      "source": [
        "2. Choose one text prompt and adjust the box and text threshold above. Click **Segment** to update the visualization on the map. You can also adjust the opacity and color of the results. **How does changing these thresholds effect your results?**"
      ],
      "metadata": {
        "id": "M6huLgCA3iKe"
      }
    },
    {
      "cell_type": "markdown",
      "source": [
        "3. Once you are happy with your results, generate an image showing your results below and include your thresholds:"
      ],
      "metadata": {
        "id": "-VH9Ck7z3zjn"
      }
    },
    {
      "cell_type": "code",
      "source": [
        "my_best_prompt='' #Put your best prompt here\n",
        "\n",
        "sam.predict(image=\"morning_tiles/tile_6_6.tif\",\n",
        "            text_prompt=my_best_prompt,\n",
        "            box_threshold=??, #Put your value here\n",
        "            text_threshold=??) #and here\n",
        "sam.show_anns(cmap=\"Oranges\",\n",
        "              box_color=\"red\",\n",
        "              title=\"Tile 6_6 (box_threshold=XX, text_threshold=XX): \"+my_best_prompt,\n",
        "              blend=True)"
      ],
      "metadata": {
        "id": "iM6AsoNZ36b9"
      },
      "execution_count": null,
      "outputs": []
    },
    {
      "cell_type": "markdown",
      "source": [
        "4. Save the image to submit with your report:"
      ],
      "metadata": {
        "id": "mlu6iLC64MWZ"
      }
    },
    {
      "cell_type": "markdown",
      "source": [
        "## Effects of Illumination: Afternoon Image"
      ],
      "metadata": {
        "id": "tOxnMNIL4QKT"
      }
    },
    {
      "cell_type": "markdown",
      "source": [
        "Now we are going to compare these results to an afternoon image of the same location."
      ],
      "metadata": {
        "id": "hvEwLMha4Uzl"
      }
    },
    {
      "cell_type": "markdown",
      "source": [
        "1. Compare the afternoon imagery to the morning imagery. What do you notice is different? Do you think it'll be easier or harder to identify the geese in this image? How might this affect your threshold values?:"
      ],
      "metadata": {
        "id": "IWv_9jYc5WdW"
      }
    },
    {
      "cell_type": "code",
      "source": [
        "m = leafmap.Map(center=[42.318058, -72.641808], zoom=18, height=\"800px\")\n",
        "m.add_basemap(\"ROADMAP\")\n",
        "m.split_map(\n",
        "    left_layer=\"morning.tif\",\n",
        "    right_layer=\"afternoon.tif\",\n",
        ")\n",
        "m"
      ],
      "metadata": {
        "id": "CLcYNnqK5ZK3"
      },
      "execution_count": null,
      "outputs": []
    },
    {
      "cell_type": "markdown",
      "source": [
        "1. First generate tiles for the afternoon image."
      ],
      "metadata": {
        "id": "NC-cJwBP4f_l"
      }
    },
    {
      "cell_type": "code",
      "source": [
        "split_raster('afternoon.tif', out_dir=\"afternoon_tiles\", tile_size=(2000, 2000), overlap=0)"
      ],
      "metadata": {
        "id": "hfxplF5W4dA4"
      },
      "execution_count": null,
      "outputs": []
    },
    {
      "cell_type": "markdown",
      "source": [
        "2. Let's compare segmentation models. First run the model on tile 5_6 with 'bird' and the default thresholds. Then run the same thing but on the afternoon tile."
      ],
      "metadata": {
        "id": "sKNmSqjq6F0l"
      }
    },
    {
      "cell_type": "code",
      "source": [
        "sam.predict(image=\"morning_tiles/tile_5_5.tif\",\n",
        "            text_prompt='bird',\n",
        "            box_threshold=0.25,\n",
        "            text_threshold=0.25)\n",
        "sam.show_anns(cmap=\"Oranges\",\n",
        "              box_color=\"red\",\n",
        "              title=\"Morning tile 5_6 (defaults): geese\",\n",
        "              blend=True)"
      ],
      "metadata": {
        "id": "BT6ohfol6Pbb"
      },
      "execution_count": null,
      "outputs": []
    },
    {
      "cell_type": "code",
      "source": [
        "sam.predict(image=\"afternoon_tiles/tile_5_5.tif\",\n",
        "            text_prompt='bird',\n",
        "            box_threshold=0.25,\n",
        "            text_threshold=0.25)\n",
        "sam.show_anns(cmap=\"Oranges\",\n",
        "              box_color=\"red\",\n",
        "              title=\"Afternoon tile 5_6 (defaults): geese\",\n",
        "              blend=True)"
      ],
      "metadata": {
        "id": "xvyuLbvV6sFA"
      },
      "execution_count": null,
      "outputs": []
    },
    {
      "cell_type": "markdown",
      "source": [
        "3. Because of the different illumination, we need to lower the box_threshold."
      ],
      "metadata": {
        "id": "Z5Qu_j0076gZ"
      }
    },
    {
      "cell_type": "code",
      "source": [
        "sam.predict(image=\"afternoon_tiles/tile_5_5.tif\",\n",
        "            text_prompt='bird',\n",
        "            box_threshold=0.2,\n",
        "            text_threshold=0.25)\n",
        "sam.show_anns(cmap=\"Oranges\",\n",
        "              box_color=\"red\",\n",
        "              title=\"Afternoon tile 5_6 (defaults): geese\",\n",
        "              blend=True)"
      ],
      "metadata": {
        "id": "bQU1v6OR8AEt"
      },
      "execution_count": null,
      "outputs": []
    },
    {
      "cell_type": "markdown",
      "source": [
        "# Conclusion"
      ],
      "metadata": {
        "id": "FMwnslYgnbfp"
      }
    },
    {
      "cell_type": "markdown",
      "source": [
        "In this tutorial, we scratched the surface of tiling drone imagery for use in a segmentation mode. We saw how different text prompts can affect results, how illumination might affect segmentation accuracy or require us to adjust model paramaters, and how to interactively test segmentation with a sandbox map."
      ],
      "metadata": {
        "id": "CCE9iZ8h8Fah"
      }
    }
  ]
}